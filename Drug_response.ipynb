{
 "cells": [
  {
   "cell_type": "code",
   "execution_count": 1,
   "id": "f13e5f39-a086-46f2-ac74-934538fa1f87",
   "metadata": {},
   "outputs": [],
   "source": [
    "import pandas as pd\n",
    "import numpy as np"
   ]
  },
  {
   "cell_type": "code",
   "execution_count": 2,
   "id": "d08390d2-2ade-4d23-9273-6f93a3a11938",
   "metadata": {},
   "outputs": [],
   "source": [
    "# Importing main data cell lines and drug response\n",
    "cell_lines_pd = pd.read_csv (\"OmicsExpressionProteinCodingGenesTPMLogp1.csv\", index_col=0)\n",
    "response_pd = pd.read_csv (\"Repurposing_Public_24Q2_Extended_Primary_Data_Matrix.csv\", index_col=0)"
   ]
  },
  {
   "cell_type": "code",
   "execution_count": 5,
   "id": "66bac752-4e6b-4330-a3cf-1af8575934f5",
   "metadata": {},
   "outputs": [
    {
     "name": "stdout",
     "output_type": "stream",
     "text": [
      "(1673, 19193)\n"
     ]
    }
   ],
   "source": [
    "print(cell_lines_pd.shape)"
   ]
  },
  {
   "cell_type": "code",
   "execution_count": 7,
   "id": "c2741218-6fcf-414d-9fb5-d74fe79a622b",
   "metadata": {},
   "outputs": [
    {
     "name": "stdout",
     "output_type": "stream",
     "text": [
      "(6790, 919)\n"
     ]
    }
   ],
   "source": [
    "print(response_pd.shape)"
   ]
  },
  {
   "cell_type": "code",
   "execution_count": 9,
   "id": "64b036b6-e564-4040-92cf-e492a06a884e",
   "metadata": {},
   "outputs": [],
   "source": [
    "#Transposing response drugs to rows to posteriously merge to lines dataset\n",
    "response_transposed = response_pd.T"
   ]
  },
  {
   "cell_type": "markdown",
   "id": "4beb4ffe-94da-4e53-b7aa-d984f3e6d5c3",
   "metadata": {},
   "source": [
    "## Filtering both datasets to only have the common ones "
   ]
  },
  {
   "cell_type": "code",
   "execution_count": 12,
   "id": "477567a0-201c-496f-b9e5-5a860dfebcce",
   "metadata": {},
   "outputs": [
    {
     "name": "stdout",
     "output_type": "stream",
     "text": [
      "Index(['BRD:BRD-A00047421-001-01-7', 'BRD:BRD-A00055058-001-01-0',\n",
      "       'BRD:BRD-A00077618-236-07-6', 'BRD:BRD-A00092689-236-04-9',\n",
      "       'BRD:BRD-A00100033-001-08-9', 'BRD:BRD-A00147595-001-01-5',\n",
      "       'BRD:BRD-A00218260-001-03-4', 'BRD:BRD-A00376169-001-01-6',\n",
      "       'BRD:BRD-A00520476-001-07-4', 'BRD:BRD-A00546892-001-02-6',\n",
      "       ...\n",
      "       'BRD:BRD-M92352362-002-02-3', 'BRD:BRD-M92675308-003-07-1',\n",
      "       'BRD:BRD-M93148412-001-02-6', 'BRD:BRD-M97302542-001-03-6',\n",
      "       'BRD:BRD-M98279124-300-01-1', 'BRD:BRD-U08520523-000-01-0',\n",
      "       'BRD:BRD-U25960968-000-01-9', 'BRD:BRD-U45393375-000-01-6',\n",
      "       'BRD:BRD-U48018661-000-01-9', 'BRD:BRD-U51753822-000-01-1'],\n",
      "      dtype='object', length=6790)\n",
      "Index(['ACH-000001', 'ACH-000002', 'ACH-000004', 'ACH-000005', 'ACH-000006'], dtype='object')\n"
     ]
    }
   ],
   "source": [
    "#Resetting indexes \n",
    "print(response_transposed.columns)  # See available column names\n",
    "print(response_transposed.index[:5])  # See if cell lines are already the index"
   ]
  },
  {
   "cell_type": "code",
   "execution_count": 16,
   "id": "ebfc57cf-09c9-405f-9118-662d4e092397",
   "metadata": {
    "scrolled": true
   },
   "outputs": [
    {
     "name": "stdout",
     "output_type": "stream",
     "text": [
      "            TSPAN6 (7105)  TNMD (64102)  DPM1 (8813)  SCYL3 (57147)  \\\n",
      "ACH-001113       4.331992      0.000000     7.364660       2.792855   \n",
      "ACH-001289       4.567424      0.584963     7.106641       2.543496   \n",
      "ACH-001339       3.150560      0.000000     7.379118       2.333424   \n",
      "ACH-001979       4.240314      0.000000     5.681168       2.063503   \n",
      "ACH-002438       4.032101      0.000000     6.674687       2.117695   \n",
      "ACH-001538       5.085340      0.000000     7.154211       2.545968   \n",
      "ACH-000242       6.729417      0.000000     6.537917       2.456806   \n",
      "ACH-000708       4.272770      0.189034     7.023255       2.555816   \n",
      "ACH-000327       3.337711      0.000000     5.927659       1.944858   \n",
      "ACH-000233       0.056584      0.000000     6.094236       3.971773   \n",
      "\n",
      "            C1orf112 (55732)  FGR (2268)  CFH (3075)  FUCA2 (2519)  \\\n",
      "ACH-001113          4.471187    0.028569    1.226509      3.044394   \n",
      "ACH-001289          3.504620    0.000000    0.189034      3.813525   \n",
      "ACH-001339          4.228049    0.056584    1.310340      6.687201   \n",
      "ACH-001979          1.641546    0.000000    7.236301      5.948367   \n",
      "ACH-002438          3.003602    0.000000    2.169925      6.838195   \n",
      "ACH-001538          3.084064    0.000000    5.868390      6.165309   \n",
      "ACH-000242          3.867896    0.799087    7.208478      5.570159   \n",
      "ACH-000708          3.841973    0.000000    0.097611      4.888500   \n",
      "ACH-000327          2.678072    0.014355    3.090853      6.011451   \n",
      "ACH-000233          3.731183    0.028569    6.093602      3.033863   \n",
      "\n",
      "            GCLC (2729)  NFYA (4800)  ...  H3C2 (8358)  H3C3 (8352)  \\\n",
      "ACH-001113     6.500005     4.739848  ...     2.689299     0.189034   \n",
      "ACH-001289     4.221877     3.481557  ...     1.286881     1.049631   \n",
      "ACH-001339     3.682573     3.273516  ...     0.594549     1.097611   \n",
      "ACH-001979     4.596935     2.918386  ...     0.000000     0.000000   \n",
      "ACH-002438     3.253989     4.276497  ...     0.238787     0.378512   \n",
      "ACH-001538     4.489928     3.956986  ...     0.214125     0.632268   \n",
      "ACH-000242     7.127117     4.568032  ...     1.117695     2.358959   \n",
      "ACH-000708     4.926948     3.526069  ...     1.367371     1.480265   \n",
      "ACH-000327     3.642702     2.879706  ...     1.090853     0.956057   \n",
      "ACH-000233     3.422233     4.726286  ...     0.879706     1.244887   \n",
      "\n",
      "            AC098582.1 (8916)  DUS4L-BCAP29 (115253422)  \\\n",
      "ACH-001113           0.201634                  2.130931   \n",
      "ACH-001289           0.321928                  1.464668   \n",
      "ACH-001339           0.831877                  2.946731   \n",
      "ACH-001979           0.847997                  1.887525   \n",
      "ACH-002438           0.584963                  1.748461   \n",
      "ACH-001538           0.298658                  1.641546   \n",
      "ACH-000242           0.084064                  1.910733   \n",
      "ACH-000708           0.321928                  1.891419   \n",
      "ACH-000327           0.286881                  1.327687   \n",
      "ACH-000233           0.641546                  3.157044   \n",
      "\n",
      "            C8orf44-SGK3 (100533105)  ELOA3B (728929)  NPBWR1 (2831)  \\\n",
      "ACH-001113                  0.555816         0.000000       0.275007   \n",
      "ACH-001289                  0.632268         0.000000       0.014355   \n",
      "ACH-001339                  0.475085         0.000000       0.084064   \n",
      "ACH-001979                  0.176323         0.000000       0.000000   \n",
      "ACH-002438                  0.839960         0.000000       0.014355   \n",
      "ACH-001538                  0.443607         0.000000       0.028569   \n",
      "ACH-000242                  0.000000         0.000000       0.464668   \n",
      "ACH-000708                  0.201634         0.000000       0.000000   \n",
      "ACH-000327                  0.000000         0.124328       0.176323   \n",
      "ACH-000233                  0.226509         0.000000       0.000000   \n",
      "\n",
      "            ELOA3D (100506888)  ELOA3 (162699)  CDR1 (1038)  \n",
      "ACH-001113            0.000000        0.000000     0.000000  \n",
      "ACH-001289            0.000000        0.000000     0.000000  \n",
      "ACH-001339            0.000000        0.000000     0.042644  \n",
      "ACH-001979            0.000000        0.000000     0.000000  \n",
      "ACH-002438            0.000000        0.000000     0.042644  \n",
      "ACH-001538            0.000000        0.000000     0.000000  \n",
      "ACH-000242            0.000000        0.000000     0.000000  \n",
      "ACH-000708            0.000000        0.000000     0.000000  \n",
      "ACH-000327            0.000000        0.084064     0.250962  \n",
      "ACH-000233            0.056584        0.000000     0.000000  \n",
      "\n",
      "[10 rows x 19193 columns]\n"
     ]
    }
   ],
   "source": [
    "print(cell_lines_pd.head(10))"
   ]
  },
  {
   "cell_type": "code",
   "execution_count": 18,
   "id": "77e2a1bc-9742-4ba6-9d43-f9bd2ff55bac",
   "metadata": {},
   "outputs": [
    {
     "data": {
      "text/plain": [
       "Index(['ACH-001113', 'ACH-001289', 'ACH-001538', 'ACH-000242', 'ACH-000233',\n",
       "       'ACH-000461', 'ACH-001794', 'ACH-002023', 'ACH-000528', 'ACH-001655',\n",
       "       ...\n",
       "       'ACH-000114', 'ACH-001578', 'ACH-000036', 'ACH-000973', 'ACH-001128',\n",
       "       'ACH-000750', 'ACH-000285', 'ACH-001858', 'ACH-001997', 'ACH-000052'],\n",
       "      dtype='object', length=901)"
      ]
     },
     "execution_count": 18,
     "metadata": {},
     "output_type": "execute_result"
    }
   ],
   "source": [
    "# Checking for common cell lines\n",
    "common_cells = cell_lines_pd.index.intersection(response_transposed.index)\n",
    "common_cells"
   ]
  },
  {
   "cell_type": "code",
   "execution_count": 20,
   "id": "6d0be848-3055-4ab6-8787-e629d9f2bdb2",
   "metadata": {},
   "outputs": [],
   "source": [
    "# Filtering both with common cell lines\n",
    "genes_filtered    = cell_lines_pd.loc[common_cells]\n",
    "response_filtered = response_transposed.loc[common_cells]"
   ]
  },
  {
   "cell_type": "code",
   "execution_count": 22,
   "id": "70ca40e5-f863-4bd7-8b6f-2ddd36c1daf2",
   "metadata": {},
   "outputs": [
    {
     "name": "stdout",
     "output_type": "stream",
     "text": [
      "(901, 19193)\n"
     ]
    }
   ],
   "source": [
    "print(genes_filtered .shape)"
   ]
  },
  {
   "cell_type": "code",
   "execution_count": 24,
   "id": "6347ad6e-7ffb-42ad-92d3-2933931f86fa",
   "metadata": {},
   "outputs": [
    {
     "name": "stdout",
     "output_type": "stream",
     "text": [
      "(901, 6790)\n"
     ]
    }
   ],
   "source": [
    "print(response_filtered.shape)"
   ]
  },
  {
   "cell_type": "markdown",
   "id": "c3cec06e-e357-405f-9066-2039c3f64c98",
   "metadata": {},
   "source": [
    "### Data exploration "
   ]
  },
  {
   "cell_type": "code",
   "execution_count": 31,
   "id": "13bee7bb-3f2a-4c99-bc42-3ca77af19227",
   "metadata": {},
   "outputs": [
    {
     "name": "stdout",
     "output_type": "stream",
     "text": [
      "0\n"
     ]
    }
   ],
   "source": [
    "# Checking for duplicate values \n",
    "print(genes_filtered.index.duplicated().sum())  "
   ]
  },
  {
   "cell_type": "code",
   "execution_count": 33,
   "id": "85a45e4d-4ebc-4722-b877-121a63a5f5db",
   "metadata": {},
   "outputs": [
    {
     "name": "stdout",
     "output_type": "stream",
     "text": [
      "0\n"
     ]
    }
   ],
   "source": [
    "print(response_filtered.index.duplicated().sum())  "
   ]
  },
  {
   "cell_type": "code",
   "execution_count": null,
   "id": "80bb788c-d542-426b-ba0d-5c384b7617cb",
   "metadata": {},
   "outputs": [],
   "source": [
    "# Checking for empty values\n"
   ]
  },
  {
   "cell_type": "code",
   "execution_count": null,
   "id": "bdfbee65-f1a3-42b0-987d-29716ac93e7d",
   "metadata": {},
   "outputs": [],
   "source": [
    "# Merging datasets to a single one , cell lines genes and all drug responses \n",
    "#combined_df = pd.concat([genes_filtered, response_filtered], axis=1)"
   ]
  },
  {
   "cell_type": "code",
   "execution_count": null,
   "id": "15b67043-ab16-4296-abb9-310b386241aa",
   "metadata": {},
   "outputs": [],
   "source": [
    "#print (combined_df.shape)"
   ]
  },
  {
   "cell_type": "code",
   "execution_count": null,
   "id": "767c22d9-2772-440f-9bfa-8672b9e997cd",
   "metadata": {},
   "outputs": [],
   "source": [
    "# Checking for duplicates \n",
    "#print(combined_df.index.duplicated().sum())    "
   ]
  },
  {
   "cell_type": "code",
   "execution_count": null,
   "id": "d3de0036-fd3d-4d4d-a4b7-c1eedbb0ea2e",
   "metadata": {
    "scrolled": true
   },
   "outputs": [],
   "source": []
  }
 ],
 "metadata": {
  "kernelspec": {
   "display_name": "Python [conda env:base] *",
   "language": "python",
   "name": "conda-base-py"
  },
  "language_info": {
   "codemirror_mode": {
    "name": "ipython",
    "version": 3
   },
   "file_extension": ".py",
   "mimetype": "text/x-python",
   "name": "python",
   "nbconvert_exporter": "python",
   "pygments_lexer": "ipython3",
   "version": "3.12.7"
  }
 },
 "nbformat": 4,
 "nbformat_minor": 5
}
