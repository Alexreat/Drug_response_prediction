{
 "cells": [
  {
   "cell_type": "code",
   "execution_count": 1,
   "id": "f13e5f39-a086-46f2-ac74-934538fa1f87",
   "metadata": {},
   "outputs": [],
   "source": [
    "import pandas as pd\n",
    "import numpy as np"
   ]
  },
  {
   "cell_type": "code",
   "execution_count": 2,
   "id": "d08390d2-2ade-4d23-9273-6f93a3a11938",
   "metadata": {},
   "outputs": [],
   "source": [
    "# Importing main data cell lines and drug response\n",
    "cell_lines_pd = pd.read_csv (\"OmicsExpressionProteinCodingGenesTPMLogp1.csv\", index_col=0)\n",
    "response_pd = pd.read_csv (\"Repurposing_Public_24Q2_Extended_Primary_Data_Matrix.csv\", index_col=0)"
   ]
  },
  {
   "cell_type": "code",
   "execution_count": 3,
   "id": "66bac752-4e6b-4330-a3cf-1af8575934f5",
   "metadata": {},
   "outputs": [
    {
     "name": "stdout",
     "output_type": "stream",
     "text": [
      "(1673, 19193)\n"
     ]
    }
   ],
   "source": [
    "print(cell_lines_pd.shape)"
   ]
  },
  {
   "cell_type": "code",
   "execution_count": 4,
   "id": "c2741218-6fcf-414d-9fb5-d74fe79a622b",
   "metadata": {},
   "outputs": [
    {
     "name": "stdout",
     "output_type": "stream",
     "text": [
      "(6790, 919)\n",
      "2026962\n"
     ]
    }
   ],
   "source": [
    "print(response_pd.shape)\n",
    "print(response_pd.isnull().sum().sum())"
   ]
  },
  {
   "cell_type": "code",
   "execution_count": 5,
   "id": "64b036b6-e564-4040-92cf-e492a06a884e",
   "metadata": {},
   "outputs": [],
   "source": [
    "#Transposing response drugs to rows to posteriously merge to lines dataset\n",
    "response_transposed = response_pd.T"
   ]
  },
  {
   "cell_type": "markdown",
   "id": "4beb4ffe-94da-4e53-b7aa-d984f3e6d5c3",
   "metadata": {},
   "source": [
    "## Filtering both datasets to only have the common ones "
   ]
  },
  {
   "cell_type": "code",
   "execution_count": 8,
   "id": "477567a0-201c-496f-b9e5-5a860dfebcce",
   "metadata": {
    "scrolled": true
   },
   "outputs": [
    {
     "name": "stdout",
     "output_type": "stream",
     "text": [
      "Index(['BRD:BRD-A00047421-001-01-7', 'BRD:BRD-A00055058-001-01-0',\n",
      "       'BRD:BRD-A00077618-236-07-6', 'BRD:BRD-A00092689-236-04-9',\n",
      "       'BRD:BRD-A00100033-001-08-9', 'BRD:BRD-A00147595-001-01-5',\n",
      "       'BRD:BRD-A00218260-001-03-4', 'BRD:BRD-A00376169-001-01-6',\n",
      "       'BRD:BRD-A00520476-001-07-4', 'BRD:BRD-A00546892-001-02-6',\n",
      "       ...\n",
      "       'BRD:BRD-M92352362-002-02-3', 'BRD:BRD-M92675308-003-07-1',\n",
      "       'BRD:BRD-M93148412-001-02-6', 'BRD:BRD-M97302542-001-03-6',\n",
      "       'BRD:BRD-M98279124-300-01-1', 'BRD:BRD-U08520523-000-01-0',\n",
      "       'BRD:BRD-U25960968-000-01-9', 'BRD:BRD-U45393375-000-01-6',\n",
      "       'BRD:BRD-U48018661-000-01-9', 'BRD:BRD-U51753822-000-01-1'],\n",
      "      dtype='object', length=6790)\n",
      "Index(['ACH-000001', 'ACH-000002', 'ACH-000004', 'ACH-000005', 'ACH-000006'], dtype='object')\n"
     ]
    }
   ],
   "source": [
    "#Resetting indexes \n",
    "print(response_transposed.columns)  # See available column names\n",
    "print(response_transposed.index[:5])  # See if cell lines are already the index"
   ]
  },
  {
   "cell_type": "code",
   "execution_count": 9,
   "id": "ebfc57cf-09c9-405f-9118-662d4e092397",
   "metadata": {
    "scrolled": true
   },
   "outputs": [
    {
     "name": "stdout",
     "output_type": "stream",
     "text": [
      "            TSPAN6 (7105)  TNMD (64102)  DPM1 (8813)  SCYL3 (57147)  \\\n",
      "ACH-001113       4.331992      0.000000     7.364660       2.792855   \n",
      "ACH-001289       4.567424      0.584963     7.106641       2.543496   \n",
      "ACH-001339       3.150560      0.000000     7.379118       2.333424   \n",
      "ACH-001979       4.240314      0.000000     5.681168       2.063503   \n",
      "ACH-002438       4.032101      0.000000     6.674687       2.117695   \n",
      "ACH-001538       5.085340      0.000000     7.154211       2.545968   \n",
      "ACH-000242       6.729417      0.000000     6.537917       2.456806   \n",
      "ACH-000708       4.272770      0.189034     7.023255       2.555816   \n",
      "ACH-000327       3.337711      0.000000     5.927659       1.944858   \n",
      "ACH-000233       0.056584      0.000000     6.094236       3.971773   \n",
      "\n",
      "            C1orf112 (55732)  FGR (2268)  CFH (3075)  FUCA2 (2519)  \\\n",
      "ACH-001113          4.471187    0.028569    1.226509      3.044394   \n",
      "ACH-001289          3.504620    0.000000    0.189034      3.813525   \n",
      "ACH-001339          4.228049    0.056584    1.310340      6.687201   \n",
      "ACH-001979          1.641546    0.000000    7.236301      5.948367   \n",
      "ACH-002438          3.003602    0.000000    2.169925      6.838195   \n",
      "ACH-001538          3.084064    0.000000    5.868390      6.165309   \n",
      "ACH-000242          3.867896    0.799087    7.208478      5.570159   \n",
      "ACH-000708          3.841973    0.000000    0.097611      4.888500   \n",
      "ACH-000327          2.678072    0.014355    3.090853      6.011451   \n",
      "ACH-000233          3.731183    0.028569    6.093602      3.033863   \n",
      "\n",
      "            GCLC (2729)  NFYA (4800)  ...  H3C2 (8358)  H3C3 (8352)  \\\n",
      "ACH-001113     6.500005     4.739848  ...     2.689299     0.189034   \n",
      "ACH-001289     4.221877     3.481557  ...     1.286881     1.049631   \n",
      "ACH-001339     3.682573     3.273516  ...     0.594549     1.097611   \n",
      "ACH-001979     4.596935     2.918386  ...     0.000000     0.000000   \n",
      "ACH-002438     3.253989     4.276497  ...     0.238787     0.378512   \n",
      "ACH-001538     4.489928     3.956986  ...     0.214125     0.632268   \n",
      "ACH-000242     7.127117     4.568032  ...     1.117695     2.358959   \n",
      "ACH-000708     4.926948     3.526069  ...     1.367371     1.480265   \n",
      "ACH-000327     3.642702     2.879706  ...     1.090853     0.956057   \n",
      "ACH-000233     3.422233     4.726286  ...     0.879706     1.244887   \n",
      "\n",
      "            AC098582.1 (8916)  DUS4L-BCAP29 (115253422)  \\\n",
      "ACH-001113           0.201634                  2.130931   \n",
      "ACH-001289           0.321928                  1.464668   \n",
      "ACH-001339           0.831877                  2.946731   \n",
      "ACH-001979           0.847997                  1.887525   \n",
      "ACH-002438           0.584963                  1.748461   \n",
      "ACH-001538           0.298658                  1.641546   \n",
      "ACH-000242           0.084064                  1.910733   \n",
      "ACH-000708           0.321928                  1.891419   \n",
      "ACH-000327           0.286881                  1.327687   \n",
      "ACH-000233           0.641546                  3.157044   \n",
      "\n",
      "            C8orf44-SGK3 (100533105)  ELOA3B (728929)  NPBWR1 (2831)  \\\n",
      "ACH-001113                  0.555816         0.000000       0.275007   \n",
      "ACH-001289                  0.632268         0.000000       0.014355   \n",
      "ACH-001339                  0.475085         0.000000       0.084064   \n",
      "ACH-001979                  0.176323         0.000000       0.000000   \n",
      "ACH-002438                  0.839960         0.000000       0.014355   \n",
      "ACH-001538                  0.443607         0.000000       0.028569   \n",
      "ACH-000242                  0.000000         0.000000       0.464668   \n",
      "ACH-000708                  0.201634         0.000000       0.000000   \n",
      "ACH-000327                  0.000000         0.124328       0.176323   \n",
      "ACH-000233                  0.226509         0.000000       0.000000   \n",
      "\n",
      "            ELOA3D (100506888)  ELOA3 (162699)  CDR1 (1038)  \n",
      "ACH-001113            0.000000        0.000000     0.000000  \n",
      "ACH-001289            0.000000        0.000000     0.000000  \n",
      "ACH-001339            0.000000        0.000000     0.042644  \n",
      "ACH-001979            0.000000        0.000000     0.000000  \n",
      "ACH-002438            0.000000        0.000000     0.042644  \n",
      "ACH-001538            0.000000        0.000000     0.000000  \n",
      "ACH-000242            0.000000        0.000000     0.000000  \n",
      "ACH-000708            0.000000        0.000000     0.000000  \n",
      "ACH-000327            0.000000        0.084064     0.250962  \n",
      "ACH-000233            0.056584        0.000000     0.000000  \n",
      "\n",
      "[10 rows x 19193 columns]\n"
     ]
    }
   ],
   "source": [
    "print(cell_lines_pd.head(10))"
   ]
  },
  {
   "cell_type": "code",
   "execution_count": 10,
   "id": "77e2a1bc-9742-4ba6-9d43-f9bd2ff55bac",
   "metadata": {},
   "outputs": [
    {
     "data": {
      "text/plain": [
       "Index(['ACH-001113', 'ACH-001289', 'ACH-001538', 'ACH-000242', 'ACH-000233',\n",
       "       'ACH-000461', 'ACH-001794', 'ACH-002023', 'ACH-000528', 'ACH-001655',\n",
       "       ...\n",
       "       'ACH-000114', 'ACH-001578', 'ACH-000036', 'ACH-000973', 'ACH-001128',\n",
       "       'ACH-000750', 'ACH-000285', 'ACH-001858', 'ACH-001997', 'ACH-000052'],\n",
       "      dtype='object', length=901)"
      ]
     },
     "execution_count": 10,
     "metadata": {},
     "output_type": "execute_result"
    }
   ],
   "source": [
    "# Checking for common cell lines\n",
    "common_cells = cell_lines_pd.index.intersection(response_transposed.index)\n",
    "common_cells"
   ]
  },
  {
   "cell_type": "code",
   "execution_count": 11,
   "id": "6d0be848-3055-4ab6-8787-e629d9f2bdb2",
   "metadata": {},
   "outputs": [],
   "source": [
    "# Filtering both with common cell lines\n",
    "genes_filtered    = cell_lines_pd.loc[common_cells]\n",
    "response_filtered = response_transposed.loc[common_cells]"
   ]
  },
  {
   "cell_type": "code",
   "execution_count": 12,
   "id": "70ca40e5-f863-4bd7-8b6f-2ddd36c1daf2",
   "metadata": {},
   "outputs": [
    {
     "name": "stdout",
     "output_type": "stream",
     "text": [
      "(901, 19193)\n"
     ]
    }
   ],
   "source": [
    "print(genes_filtered .shape)"
   ]
  },
  {
   "cell_type": "code",
   "execution_count": 13,
   "id": "6347ad6e-7ffb-42ad-92d3-2933931f86fa",
   "metadata": {},
   "outputs": [
    {
     "name": "stdout",
     "output_type": "stream",
     "text": [
      "(901, 6790)\n"
     ]
    }
   ],
   "source": [
    "print(response_filtered.shape)"
   ]
  },
  {
   "cell_type": "markdown",
   "id": "c3cec06e-e357-405f-9066-2039c3f64c98",
   "metadata": {},
   "source": [
    "## Data exploration (Drug efficacy Y"
   ]
  },
  {
   "cell_type": "code",
   "execution_count": 15,
   "id": "13bee7bb-3f2a-4c99-bc42-3ca77af19227",
   "metadata": {},
   "outputs": [
    {
     "name": "stdout",
     "output_type": "stream",
     "text": [
      "0\n"
     ]
    }
   ],
   "source": [
    "# Checking for duplicate values \n",
    "print(genes_filtered.index.duplicated().sum())  "
   ]
  },
  {
   "cell_type": "code",
   "execution_count": 16,
   "id": "85a45e4d-4ebc-4722-b877-121a63a5f5db",
   "metadata": {},
   "outputs": [
    {
     "name": "stdout",
     "output_type": "stream",
     "text": [
      "0\n"
     ]
    }
   ],
   "source": [
    "print(response_filtered.index.duplicated().sum())  "
   ]
  },
  {
   "cell_type": "code",
   "execution_count": 17,
   "id": "80bb788c-d542-426b-ba0d-5c384b7617cb",
   "metadata": {},
   "outputs": [
    {
     "name": "stdout",
     "output_type": "stream",
     "text": [
      "0\n",
      "1967792\n"
     ]
    }
   ],
   "source": [
    "# Checking for empty values\n",
    "print(genes_filtered.isnull().sum().sum())\n",
    "print(response_filtered.isnull().sum().sum())"
   ]
  },
  {
   "cell_type": "code",
   "execution_count": 18,
   "id": "4bfa1393-b761-4f66-b76f-4488ec9dc6d9",
   "metadata": {
    "scrolled": true
   },
   "outputs": [
    {
     "name": "stdout",
     "output_type": "stream",
     "text": [
      "BRD:BRD-K05804044-001-18-5    884\n",
      "BRD:BRD-K92723993-001-17-4    882\n",
      "BRD:BRD-A00047421-001-01-7    878\n",
      "BRD:BRD-K00003257-001-01-9    878\n",
      "BRD:BRD-K00003262-001-01-9    878\n",
      "BRD:BRD-K00003261-001-01-9    878\n",
      "BRD:BRD-K00003260-001-01-9    878\n",
      "BRD:BRD-K00003259-050-01-9    878\n",
      "BRD:BRD-K00003258-001-01-9    878\n",
      "BRD:BRD-K00003256-001-01-9    878\n",
      "dtype: int64\n"
     ]
    }
   ],
   "source": [
    "# Checking coverage of each drud , finding the most stable and less NaN values\n",
    "coverage = response_filtered.notna().sum().sort_values(ascending=False)\n",
    "print(coverage.head(10))"
   ]
  },
  {
   "cell_type": "code",
   "execution_count": 19,
   "id": "15a1ef4e-cd92-454f-9149-010e1c99f548",
   "metadata": {},
   "outputs": [
    {
     "name": "stdout",
     "output_type": "stream",
     "text": [
      "BRD:BRD-K00003313-001-01-9    13.196467\n",
      "BRD:BRD-K00003295-300-01-9    12.776134\n",
      "BRD:BRD-K00003273-003-01-9    11.840242\n",
      "BRD:BRD-K00003515-003-01-9    11.027894\n",
      "BRD:BRD-K00004604-001-01-9    10.859447\n",
      "BRD:BRD-K00003160-003-01-9    10.774531\n",
      "BRD:BRD-K00003294-050-01-9    10.677409\n",
      "BRD:BRD-K00003291-001-01-9    10.035418\n",
      "BRD:BRD-K00003207-001-01-9     9.728729\n",
      "BRD:BRD-K00003096-001-01-9     9.508960\n",
      "dtype: float64\n"
     ]
    }
   ],
   "source": [
    "# Variability check per drug\n",
    "variability = response_filtered.var(skipna=True).sort_values(ascending=False)\n",
    "print(variability.head(10))"
   ]
  },
  {
   "cell_type": "code",
   "execution_count": 20,
   "id": "fbc10cd7-03e1-446e-8c37-cda8c1e360f7",
   "metadata": {},
   "outputs": [
    {
     "name": "stdout",
     "output_type": "stream",
     "text": [
      "                            coverage   variance         score\n",
      "BRD:BRD-K00003313-001-01-9       878  13.196467  11586.498272\n",
      "BRD:BRD-K00003295-300-01-9       878  12.776134  11217.445550\n",
      "BRD:BRD-K00003273-003-01-9       878  11.840242  10395.732682\n",
      "BRD:BRD-K00003515-003-01-9       878  11.027894   9682.490858\n",
      "BRD:BRD-K00004604-001-01-9       873  10.859447   9480.297166\n",
      "BRD:BRD-K00003160-003-01-9       878  10.774531   9460.037814\n",
      "BRD:BRD-K00003294-050-01-9       878  10.677409   9374.764806\n",
      "BRD:BRD-K00003291-001-01-9       878  10.035418   8811.096589\n",
      "BRD:BRD-K00003207-001-01-9       873   9.728729   8493.180386\n",
      "BRD:BRD-K00003096-001-01-9       878   9.508960   8348.867128\n"
     ]
    }
   ],
   "source": [
    "# Combining both for best drug \n",
    "drug_summary = pd.DataFrame({\n",
    "    'coverage': response_filtered.notna().sum(),\n",
    "    'variance': response_filtered.var(skipna=True)\n",
    "})\n",
    "drug_summary['score'] = drug_summary['coverage'] * drug_summary['variance']\n",
    "drug_summary_sorted = drug_summary.sort_values(by='score', ascending=False)\n",
    "\n",
    "print(drug_summary_sorted.head(10))"
   ]
  },
  {
   "cell_type": "code",
   "execution_count": 21,
   "id": "70cbecf7-a74f-4d63-b5e4-845dd8ee0d17",
   "metadata": {
    "scrolled": true
   },
   "outputs": [
    {
     "name": "stdout",
     "output_type": "stream",
     "text": [
      "            BRD:BRD-A00047421-001-01-7  BRD:BRD-A00055058-001-01-0  \\\n",
      "ACH-001113                   -2.860765                   -0.026114   \n",
      "ACH-001289                    0.163156                         NaN   \n",
      "ACH-001538                   -2.698254                         NaN   \n",
      "ACH-000242                   -0.333245                   -0.281167   \n",
      "ACH-000233                   -3.231683                         NaN   \n",
      "...                                ...                         ...   \n",
      "ACH-000750                   -4.248344                   -0.455020   \n",
      "ACH-000285                         NaN                         NaN   \n",
      "ACH-001858                   -1.766594                         NaN   \n",
      "ACH-001997                   -3.479557                         NaN   \n",
      "ACH-000052                   -1.410507                    0.241151   \n",
      "\n",
      "            BRD:BRD-A00077618-236-07-6  BRD:BRD-A00092689-236-04-9  \\\n",
      "ACH-001113                   -0.059703                    0.357645   \n",
      "ACH-001289                         NaN                   -0.348063   \n",
      "ACH-001538                         NaN                   -0.498525   \n",
      "ACH-000242                    1.285570                   -0.322434   \n",
      "ACH-000233                         NaN                   -0.035816   \n",
      "...                                ...                         ...   \n",
      "ACH-000750                   -0.128454                    0.133767   \n",
      "ACH-000285                         NaN                         NaN   \n",
      "ACH-001858                         NaN                    0.199092   \n",
      "ACH-001997                         NaN                   -0.324536   \n",
      "ACH-000052                   -0.133103                    0.048151   \n",
      "\n",
      "            BRD:BRD-A00100033-001-08-9  BRD:BRD-A00147595-001-01-5  \\\n",
      "ACH-001113                   -0.574478                   -0.175998   \n",
      "ACH-001289                         NaN                         NaN   \n",
      "ACH-001538                         NaN                         NaN   \n",
      "ACH-000242                   -1.272470                   -0.181369   \n",
      "ACH-000233                         NaN                         NaN   \n",
      "...                                ...                         ...   \n",
      "ACH-000750                   -1.113157                    0.346133   \n",
      "ACH-000285                         NaN                         NaN   \n",
      "ACH-001858                         NaN                         NaN   \n",
      "ACH-001997                         NaN                         NaN   \n",
      "ACH-000052                   -0.853926                    0.518615   \n",
      "\n",
      "            BRD:BRD-A00218260-001-03-4  BRD:BRD-A00376169-001-01-6  \\\n",
      "ACH-001113                    0.907408                    0.055809   \n",
      "ACH-001289                         NaN                         NaN   \n",
      "ACH-001538                         NaN                         NaN   \n",
      "ACH-000242                   -0.226795                   -0.636835   \n",
      "ACH-000233                         NaN                         NaN   \n",
      "...                                ...                         ...   \n",
      "ACH-000750                   -0.567035                   -0.399954   \n",
      "ACH-000285                         NaN                         NaN   \n",
      "ACH-001858                         NaN                         NaN   \n",
      "ACH-001997                         NaN                         NaN   \n",
      "ACH-000052                    0.471141                   -0.357434   \n",
      "\n",
      "            BRD:BRD-A00520476-001-07-4  BRD:BRD-A00546892-001-02-6  ...  \\\n",
      "ACH-001113                    0.335426                    0.323591  ...   \n",
      "ACH-001289                         NaN                         NaN  ...   \n",
      "ACH-001538                         NaN                         NaN  ...   \n",
      "ACH-000242                    0.018742                    0.641547  ...   \n",
      "ACH-000233                         NaN                         NaN  ...   \n",
      "...                                ...                         ...  ...   \n",
      "ACH-000750                    0.094982                    0.330416  ...   \n",
      "ACH-000285                         NaN                         NaN  ...   \n",
      "ACH-001858                         NaN                         NaN  ...   \n",
      "ACH-001997                         NaN                         NaN  ...   \n",
      "ACH-000052                    0.347287                    0.196238  ...   \n",
      "\n",
      "            BRD:BRD-M92352362-002-02-3  BRD:BRD-M92675308-003-07-1  \\\n",
      "ACH-001113                   -0.878611                    0.614513   \n",
      "ACH-001289                         NaN                         NaN   \n",
      "ACH-001538                         NaN                         NaN   \n",
      "ACH-000242                   -0.015808                   -0.924650   \n",
      "ACH-000233                         NaN                         NaN   \n",
      "...                                ...                         ...   \n",
      "ACH-000750                         NaN                    0.133177   \n",
      "ACH-000285                         NaN                         NaN   \n",
      "ACH-001858                         NaN                         NaN   \n",
      "ACH-001997                         NaN                         NaN   \n",
      "ACH-000052                   -0.094964                   -0.120425   \n",
      "\n",
      "            BRD:BRD-M93148412-001-02-6  BRD:BRD-M97302542-001-03-6  \\\n",
      "ACH-001113                   -1.163636                   -0.020579   \n",
      "ACH-001289                   -1.082603                         NaN   \n",
      "ACH-001538                    0.981083                         NaN   \n",
      "ACH-000242                   -1.679747                   -0.318488   \n",
      "ACH-000233                   -0.005393                         NaN   \n",
      "...                                ...                         ...   \n",
      "ACH-000750                   -0.139247                         NaN   \n",
      "ACH-000285                         NaN                         NaN   \n",
      "ACH-001858                   -0.393433                         NaN   \n",
      "ACH-001997                    0.119480                         NaN   \n",
      "ACH-000052                   -0.662963                    0.407822   \n",
      "\n",
      "            BRD:BRD-M98279124-300-01-1  BRD:BRD-U08520523-000-01-0  \\\n",
      "ACH-001113                    0.066667                   -0.008087   \n",
      "ACH-001289                         NaN                         NaN   \n",
      "ACH-001538                         NaN                         NaN   \n",
      "ACH-000242                    0.059963                    0.042907   \n",
      "ACH-000233                         NaN                         NaN   \n",
      "...                                ...                         ...   \n",
      "ACH-000750                    0.385459                         NaN   \n",
      "ACH-000285                         NaN                         NaN   \n",
      "ACH-001858                         NaN                         NaN   \n",
      "ACH-001997                         NaN                         NaN   \n",
      "ACH-000052                    0.672373                   -0.578323   \n",
      "\n",
      "            BRD:BRD-U25960968-000-01-9  BRD:BRD-U45393375-000-01-6  \\\n",
      "ACH-001113                   -0.487323                    0.372364   \n",
      "ACH-001289                         NaN                         NaN   \n",
      "ACH-001538                         NaN                         NaN   \n",
      "ACH-000242                    0.619071                    0.538230   \n",
      "ACH-000233                         NaN                         NaN   \n",
      "...                                ...                         ...   \n",
      "ACH-000750                   -0.448351                    0.682787   \n",
      "ACH-000285                         NaN                         NaN   \n",
      "ACH-001858                         NaN                         NaN   \n",
      "ACH-001997                         NaN                         NaN   \n",
      "ACH-000052                   -0.439626                   -0.247686   \n",
      "\n",
      "            BRD:BRD-U48018661-000-01-9  BRD:BRD-U51753822-000-01-1  \n",
      "ACH-001113                   -0.454263                   -0.214175  \n",
      "ACH-001289                         NaN                         NaN  \n",
      "ACH-001538                         NaN                         NaN  \n",
      "ACH-000242                    0.120093                   -0.141024  \n",
      "ACH-000233                         NaN                         NaN  \n",
      "...                                ...                         ...  \n",
      "ACH-000750                   -0.219394                   -0.190344  \n",
      "ACH-000285                         NaN                         NaN  \n",
      "ACH-001858                         NaN                         NaN  \n",
      "ACH-001997                         NaN                         NaN  \n",
      "ACH-000052                    0.229724                    0.035084  \n",
      "\n",
      "[901 rows x 6790 columns]\n"
     ]
    }
   ],
   "source": [
    "# Setting target drug for the model , BRD:BRD-A00047421-001-01-7, for this case\n",
    "target_drug = \"BRD:BRD-K00003313-001-01-9\"\n",
    "print(response_filtered)"
   ]
  },
  {
   "cell_type": "code",
   "execution_count": 22,
   "id": "f4d9c532-038a-417d-b9ac-c03492a58538",
   "metadata": {},
   "outputs": [],
   "source": [
    "# subseting for target drug \n",
    "drug_df = response_filtered[[target_drug]].dropna().copy()"
   ]
  },
  {
   "cell_type": "code",
   "execution_count": 23,
   "id": "dd670427-ec98-4f1b-b06a-6e724b072278",
   "metadata": {},
   "outputs": [
    {
     "data": {
      "text/html": [
       "<div>\n",
       "<style scoped>\n",
       "    .dataframe tbody tr th:only-of-type {\n",
       "        vertical-align: middle;\n",
       "    }\n",
       "\n",
       "    .dataframe tbody tr th {\n",
       "        vertical-align: top;\n",
       "    }\n",
       "\n",
       "    .dataframe thead th {\n",
       "        text-align: right;\n",
       "    }\n",
       "</style>\n",
       "<table border=\"1\" class=\"dataframe\">\n",
       "  <thead>\n",
       "    <tr style=\"text-align: right;\">\n",
       "      <th></th>\n",
       "      <th>BRD:BRD-K00003313-001-01-9</th>\n",
       "    </tr>\n",
       "  </thead>\n",
       "  <tbody>\n",
       "    <tr>\n",
       "      <th>ACH-001113</th>\n",
       "      <td>-8.461378</td>\n",
       "    </tr>\n",
       "    <tr>\n",
       "      <th>ACH-001289</th>\n",
       "      <td>-9.195708</td>\n",
       "    </tr>\n",
       "    <tr>\n",
       "      <th>ACH-001538</th>\n",
       "      <td>-9.585021</td>\n",
       "    </tr>\n",
       "    <tr>\n",
       "      <th>ACH-000242</th>\n",
       "      <td>-7.567494</td>\n",
       "    </tr>\n",
       "    <tr>\n",
       "      <th>ACH-000233</th>\n",
       "      <td>-10.629807</td>\n",
       "    </tr>\n",
       "    <tr>\n",
       "      <th>...</th>\n",
       "      <td>...</td>\n",
       "    </tr>\n",
       "    <tr>\n",
       "      <th>ACH-001128</th>\n",
       "      <td>-9.789390</td>\n",
       "    </tr>\n",
       "    <tr>\n",
       "      <th>ACH-000750</th>\n",
       "      <td>-6.311269</td>\n",
       "    </tr>\n",
       "    <tr>\n",
       "      <th>ACH-001858</th>\n",
       "      <td>-8.195061</td>\n",
       "    </tr>\n",
       "    <tr>\n",
       "      <th>ACH-001997</th>\n",
       "      <td>-6.995402</td>\n",
       "    </tr>\n",
       "    <tr>\n",
       "      <th>ACH-000052</th>\n",
       "      <td>-10.305772</td>\n",
       "    </tr>\n",
       "  </tbody>\n",
       "</table>\n",
       "<p>878 rows × 1 columns</p>\n",
       "</div>"
      ],
      "text/plain": [
       "            BRD:BRD-K00003313-001-01-9\n",
       "ACH-001113                   -8.461378\n",
       "ACH-001289                   -9.195708\n",
       "ACH-001538                   -9.585021\n",
       "ACH-000242                   -7.567494\n",
       "ACH-000233                  -10.629807\n",
       "...                                ...\n",
       "ACH-001128                   -9.789390\n",
       "ACH-000750                   -6.311269\n",
       "ACH-001858                   -8.195061\n",
       "ACH-001997                   -6.995402\n",
       "ACH-000052                  -10.305772\n",
       "\n",
       "[878 rows x 1 columns]"
      ]
     },
     "execution_count": 23,
     "metadata": {},
     "output_type": "execute_result"
    }
   ],
   "source": [
    "drug_df"
   ]
  },
  {
   "cell_type": "code",
   "execution_count": 24,
   "id": "91338c6f-1986-4487-aa9c-7f573d5d9064",
   "metadata": {},
   "outputs": [
    {
     "data": {
      "image/png": "[encoded data removed]",
      "text/plain": [
       "<Figure size 640x480 with 1 Axes>"
      ]
     },
     "metadata": {},
     "output_type": "display_data"
    }
   ],
   "source": [
    "# Drug distribution checking for skewness\n",
    "import matplotlib.pyplot as plt\n",
    "import seaborn as sns\n",
    "\n",
    "sns.histplot(drug_df, bins=30, kde=True)\n",
    "plt.title(\"Target Distribution (Efficacy for selected drug)\")\n",
    "plt.show()"
   ]
  },
  {
   "cell_type": "code",
   "execution_count": 25,
   "id": "078bfe79-9585-4a11-a2e5-ba02f149ee33",
   "metadata": {},
   "outputs": [],
   "source": [
    "# IQR filtering for outliers \n",
    "\n",
    "def iqr_filter(df):\n",
    "    filtered_df = df.copy()\n",
    "    for gene in df.columns:\n",
    "        Q1 = df[gene].quantile(0.25)\n",
    "        Q3 = df[gene].quantile(0.75)\n",
    "        IQR = Q3 - Q1\n",
    "        lower = Q1 - 1.5 * IQR\n",
    "        upper = Q3 + 1.5 * IQR\n",
    "        mask = (df[gene] >= lower) & (df[gene] <= upper)\n",
    "        filtered_df = filtered_df[mask]\n",
    "    return filtered_df\n",
    "\n",
    "drug_iqr = iqr_filter(drug_df)"
   ]
  },
  {
   "cell_type": "code",
   "execution_count": 26,
   "id": "fb433b95-7d58-451f-b966-22d14eba6c8b",
   "metadata": {},
   "outputs": [
    {
     "data": {
      "image/png": "[encoded data removed]",
      "text/plain": [
       "<Figure size 640x480 with 1 Axes>"
      ]
     },
     "metadata": {},
     "output_type": "display_data"
    }
   ],
   "source": [
    "# Drug distribution after IQR \n",
    "\n",
    "sns.histplot(drug_iqr, bins=30, kde=True)\n",
    "plt.title(\"Target Distribution (Efficacy for selected drug)\")\n",
    "plt.show()"
   ]
  },
  {
   "cell_type": "code",
   "execution_count": 27,
   "id": "430b51de-0bd1-4379-9563-6dbc2f31ee7b",
   "metadata": {},
   "outputs": [
    {
     "data": {
      "image/png": "[encoded data removed]",
      "text/plain": [
       "<Figure size 640x480 with 1 Axes>"
      ]
     },
     "metadata": {},
     "output_type": "display_data"
    }
   ],
   "source": [
    "# Outlayers \n",
    "\n",
    "sns.boxplot(x=drug_iqr.squeeze())\n",
    "plt.title(\"Boxplot of Efficacy for Selected Drug\")\n",
    "plt.xlabel(\"Efficacy (z-score)\")\n",
    "plt.grid(True)\n",
    "plt.show()"
   ]
  },
  {
   "cell_type": "code",
   "execution_count": 28,
   "id": "254986c2-e332-4bcb-804b-a154aec235fa",
   "metadata": {},
   "outputs": [],
   "source": [
    "# Windsorization to avoid outlayers \n",
    "from scipy.stats.mstats import winsorize\n",
    "\n",
    "# Winsorize the bottom and top 1%\n",
    "drug_winz = drug_iqr.apply(lambda col: winsorize(col, limits=[0.01, 0.01]))"
   ]
  },
  {
   "cell_type": "code",
   "execution_count": 29,
   "id": "c4f8c814-c9a1-4347-8070-a12f5d2a608c",
   "metadata": {},
   "outputs": [
    {
     "data": {
      "image/png": "[encoded data removed]",
      "text/plain": [
       "<Figure size 640x480 with 1 Axes>"
      ]
     },
     "metadata": {},
     "output_type": "display_data"
    }
   ],
   "source": [
    "# Checking distribution after winsorization \n",
    "sns.histplot(drug_winz, kde=True, bins=40)\n",
    "plt.title(\"Winsorized Efficacy Distribution\")\n",
    "plt.xlabel(\"Efficacy (winsorized)\")\n",
    "plt.show()"
   ]
  },
  {
   "cell_type": "code",
   "execution_count": null,
   "id": "d4d73f10-1c9b-4359-9bd3-e5f8f25787ff",
   "metadata": {},
   "outputs": [],
   "source": []
  },
  {
   "cell_type": "markdown",
   "id": "1888ed02-be4f-479f-b0c5-05f4b57edbde",
   "metadata": {},
   "source": [
    "## Data exploration (Genes X)"
   ]
  },
  {
   "cell_type": "code",
   "execution_count": 32,
   "id": "6ec844cf-d5a4-41b6-8ec2-ea66591930d0",
   "metadata": {},
   "outputs": [
    {
     "data": {
      "text/html": [
       "<div>\n",
       "<style scoped>\n",
       "    .dataframe tbody tr th:only-of-type {\n",
       "        vertical-align: middle;\n",
       "    }\n",
       "\n",
       "    .dataframe tbody tr th {\n",
       "        vertical-align: top;\n",
       "    }\n",
       "\n",
       "    .dataframe thead th {\n",
       "        text-align: right;\n",
       "    }\n",
       "</style>\n",
       "<table border=\"1\" class=\"dataframe\">\n",
       "  <thead>\n",
       "    <tr style=\"text-align: right;\">\n",
       "      <th></th>\n",
       "      <th>mean</th>\n",
       "      <th>std</th>\n",
       "      <th>min</th>\n",
       "      <th>25%</th>\n",
       "      <th>50%</th>\n",
       "      <th>75%</th>\n",
       "      <th>max</th>\n",
       "    </tr>\n",
       "  </thead>\n",
       "  <tbody>\n",
       "    <tr>\n",
       "      <th>TSPAN6 (7105)</th>\n",
       "      <td>3.513159</td>\n",
       "      <td>1.549150</td>\n",
       "      <td>0.000000</td>\n",
       "      <td>3.042644</td>\n",
       "      <td>3.893362</td>\n",
       "      <td>4.482848</td>\n",
       "      <td>6.736199</td>\n",
       "    </tr>\n",
       "    <tr>\n",
       "      <th>TNMD (64102)</th>\n",
       "      <td>0.060678</td>\n",
       "      <td>0.310051</td>\n",
       "      <td>0.000000</td>\n",
       "      <td>0.000000</td>\n",
       "      <td>0.000000</td>\n",
       "      <td>0.000000</td>\n",
       "      <td>5.251340</td>\n",
       "    </tr>\n",
       "    <tr>\n",
       "      <th>DPM1 (8813)</th>\n",
       "      <td>6.514252</td>\n",
       "      <td>0.634046</td>\n",
       "      <td>3.117695</td>\n",
       "      <td>6.132577</td>\n",
       "      <td>6.498889</td>\n",
       "      <td>6.925169</td>\n",
       "      <td>9.175250</td>\n",
       "    </tr>\n",
       "    <tr>\n",
       "      <th>SCYL3 (57147)</th>\n",
       "      <td>2.336843</td>\n",
       "      <td>0.550772</td>\n",
       "      <td>0.669027</td>\n",
       "      <td>1.959770</td>\n",
       "      <td>2.307429</td>\n",
       "      <td>2.646163</td>\n",
       "      <td>4.747387</td>\n",
       "    </tr>\n",
       "    <tr>\n",
       "      <th>C1orf112 (55732)</th>\n",
       "      <td>3.710319</td>\n",
       "      <td>0.762822</td>\n",
       "      <td>0.495695</td>\n",
       "      <td>3.269033</td>\n",
       "      <td>3.769772</td>\n",
       "      <td>4.193772</td>\n",
       "      <td>5.972463</td>\n",
       "    </tr>\n",
       "    <tr>\n",
       "      <th>FGR (2268)</th>\n",
       "      <td>0.345466</td>\n",
       "      <td>1.044600</td>\n",
       "      <td>0.000000</td>\n",
       "      <td>0.014355</td>\n",
       "      <td>0.042644</td>\n",
       "      <td>0.124328</td>\n",
       "      <td>7.742949</td>\n",
       "    </tr>\n",
       "    <tr>\n",
       "      <th>CFH (3075)</th>\n",
       "      <td>2.149703</td>\n",
       "      <td>2.185051</td>\n",
       "      <td>0.000000</td>\n",
       "      <td>0.150560</td>\n",
       "      <td>1.321928</td>\n",
       "      <td>3.879706</td>\n",
       "      <td>9.693016</td>\n",
       "    </tr>\n",
       "    <tr>\n",
       "      <th>FUCA2 (2519)</th>\n",
       "      <td>5.266559</td>\n",
       "      <td>1.719983</td>\n",
       "      <td>0.000000</td>\n",
       "      <td>4.990501</td>\n",
       "      <td>5.748193</td>\n",
       "      <td>6.281327</td>\n",
       "      <td>8.253895</td>\n",
       "    </tr>\n",
       "    <tr>\n",
       "      <th>GCLC (2729)</th>\n",
       "      <td>4.692039</td>\n",
       "      <td>1.193216</td>\n",
       "      <td>1.195348</td>\n",
       "      <td>3.976364</td>\n",
       "      <td>4.568032</td>\n",
       "      <td>5.296824</td>\n",
       "      <td>9.581991</td>\n",
       "    </tr>\n",
       "    <tr>\n",
       "      <th>NFYA (4800)</th>\n",
       "      <td>4.066597</td>\n",
       "      <td>0.733508</td>\n",
       "      <td>1.244887</td>\n",
       "      <td>3.606442</td>\n",
       "      <td>4.045268</td>\n",
       "      <td>4.500165</td>\n",
       "      <td>7.434211</td>\n",
       "    </tr>\n",
       "  </tbody>\n",
       "</table>\n",
       "</div>"
      ],
      "text/plain": [
       "                      mean       std       min       25%       50%       75%  \\\n",
       "TSPAN6 (7105)     3.513159  1.549150  0.000000  3.042644  3.893362  4.482848   \n",
       "TNMD (64102)      0.060678  0.310051  0.000000  0.000000  0.000000  0.000000   \n",
       "DPM1 (8813)       6.514252  0.634046  3.117695  6.132577  6.498889  6.925169   \n",
       "SCYL3 (57147)     2.336843  0.550772  0.669027  1.959770  2.307429  2.646163   \n",
       "C1orf112 (55732)  3.710319  0.762822  0.495695  3.269033  3.769772  4.193772   \n",
       "FGR (2268)        0.345466  1.044600  0.000000  0.014355  0.042644  0.124328   \n",
       "CFH (3075)        2.149703  2.185051  0.000000  0.150560  1.321928  3.879706   \n",
       "FUCA2 (2519)      5.266559  1.719983  0.000000  4.990501  5.748193  6.281327   \n",
       "GCLC (2729)       4.692039  1.193216  1.195348  3.976364  4.568032  5.296824   \n",
       "NFYA (4800)       4.066597  0.733508  1.244887  3.606442  4.045268  4.500165   \n",
       "\n",
       "                       max  \n",
       "TSPAN6 (7105)     6.736199  \n",
       "TNMD (64102)      5.251340  \n",
       "DPM1 (8813)       9.175250  \n",
       "SCYL3 (57147)     4.747387  \n",
       "C1orf112 (55732)  5.972463  \n",
       "FGR (2268)        7.742949  \n",
       "CFH (3075)        9.693016  \n",
       "FUCA2 (2519)      8.253895  \n",
       "GCLC (2729)       9.581991  \n",
       "NFYA (4800)       7.434211  "
      ]
     },
     "execution_count": 32,
     "metadata": {},
     "output_type": "execute_result"
    }
   ],
   "source": [
    "genes_filtered.describe().T[['mean', 'std', 'min', '25%', '50%', '75%', 'max']].head(10)"
   ]
  },
  {
   "cell_type": "code",
   "execution_count": 33,
   "id": "3673b336-a3fe-4bd2-9bb4-d2dbbab6165e",
   "metadata": {},
   "outputs": [],
   "source": [
    "from scipy.stats.mstats import winsorize\n",
    "\n",
    "# Apply winsorization to each gene (column) at 1% from both ends\n",
    "genes_winz = genes_filtered.apply(lambda col: winsorize(col, limits=[0.01, 0.01]))"
   ]
  },
  {
   "cell_type": "code",
   "execution_count": 34,
   "id": "ca7cc3d8-ce08-4217-97fd-d2e49772a1fd",
   "metadata": {},
   "outputs": [
    {
     "data": {
      "text/html": [
       "<div>\n",
       "<style scoped>\n",
       "    .dataframe tbody tr th:only-of-type {\n",
       "        vertical-align: middle;\n",
       "    }\n",
       "\n",
       "    .dataframe tbody tr th {\n",
       "        vertical-align: top;\n",
       "    }\n",
       "\n",
       "    .dataframe thead th {\n",
       "        text-align: right;\n",
       "    }\n",
       "</style>\n",
       "<table border=\"1\" class=\"dataframe\">\n",
       "  <thead>\n",
       "    <tr style=\"text-align: right;\">\n",
       "      <th></th>\n",
       "      <th>mean</th>\n",
       "      <th>std</th>\n",
       "      <th>min</th>\n",
       "      <th>25%</th>\n",
       "      <th>50%</th>\n",
       "      <th>75%</th>\n",
       "      <th>max</th>\n",
       "    </tr>\n",
       "  </thead>\n",
       "  <tbody>\n",
       "    <tr>\n",
       "      <th>TSPAN6 (7105)</th>\n",
       "      <td>3.510078</td>\n",
       "      <td>1.543643</td>\n",
       "      <td>0.000000</td>\n",
       "      <td>3.042644</td>\n",
       "      <td>3.893362</td>\n",
       "      <td>4.482848</td>\n",
       "      <td>6.018145</td>\n",
       "    </tr>\n",
       "    <tr>\n",
       "      <th>TNMD (64102)</th>\n",
       "      <td>0.050606</td>\n",
       "      <td>0.208705</td>\n",
       "      <td>0.000000</td>\n",
       "      <td>0.000000</td>\n",
       "      <td>0.000000</td>\n",
       "      <td>0.000000</td>\n",
       "      <td>1.584963</td>\n",
       "    </tr>\n",
       "    <tr>\n",
       "      <th>DPM1 (8813)</th>\n",
       "      <td>6.518938</td>\n",
       "      <td>0.600719</td>\n",
       "      <td>5.039577</td>\n",
       "      <td>6.132577</td>\n",
       "      <td>6.498889</td>\n",
       "      <td>6.925169</td>\n",
       "      <td>8.053817</td>\n",
       "    </tr>\n",
       "    <tr>\n",
       "      <th>SCYL3 (57147)</th>\n",
       "      <td>2.336828</td>\n",
       "      <td>0.537316</td>\n",
       "      <td>1.144046</td>\n",
       "      <td>1.959770</td>\n",
       "      <td>2.307429</td>\n",
       "      <td>2.646163</td>\n",
       "      <td>3.971773</td>\n",
       "    </tr>\n",
       "    <tr>\n",
       "      <th>C1orf112 (55732)</th>\n",
       "      <td>3.712460</td>\n",
       "      <td>0.745709</td>\n",
       "      <td>1.687061</td>\n",
       "      <td>3.269033</td>\n",
       "      <td>3.769772</td>\n",
       "      <td>4.193772</td>\n",
       "      <td>5.299391</td>\n",
       "    </tr>\n",
       "    <tr>\n",
       "      <th>FGR (2268)</th>\n",
       "      <td>0.339826</td>\n",
       "      <td>1.010771</td>\n",
       "      <td>0.000000</td>\n",
       "      <td>0.014355</td>\n",
       "      <td>0.042644</td>\n",
       "      <td>0.124328</td>\n",
       "      <td>6.018145</td>\n",
       "    </tr>\n",
       "    <tr>\n",
       "      <th>CFH (3075)</th>\n",
       "      <td>2.140230</td>\n",
       "      <td>2.159519</td>\n",
       "      <td>0.000000</td>\n",
       "      <td>0.150560</td>\n",
       "      <td>1.321928</td>\n",
       "      <td>3.879706</td>\n",
       "      <td>7.222360</td>\n",
       "    </tr>\n",
       "    <tr>\n",
       "      <th>FUCA2 (2519)</th>\n",
       "      <td>5.264649</td>\n",
       "      <td>1.715315</td>\n",
       "      <td>0.056584</td>\n",
       "      <td>4.990501</td>\n",
       "      <td>5.748193</td>\n",
       "      <td>6.281327</td>\n",
       "      <td>7.477030</td>\n",
       "    </tr>\n",
       "    <tr>\n",
       "      <th>GCLC (2729)</th>\n",
       "      <td>4.691081</td>\n",
       "      <td>1.168893</td>\n",
       "      <td>2.032101</td>\n",
       "      <td>3.976364</td>\n",
       "      <td>4.568032</td>\n",
       "      <td>5.296824</td>\n",
       "      <td>8.530016</td>\n",
       "    </tr>\n",
       "    <tr>\n",
       "      <th>NFYA (4800)</th>\n",
       "      <td>4.065951</td>\n",
       "      <td>0.712347</td>\n",
       "      <td>2.260026</td>\n",
       "      <td>3.606442</td>\n",
       "      <td>4.045268</td>\n",
       "      <td>4.500165</td>\n",
       "      <td>5.794156</td>\n",
       "    </tr>\n",
       "  </tbody>\n",
       "</table>\n",
       "</div>"
      ],
      "text/plain": [
       "                      mean       std       min       25%       50%       75%  \\\n",
       "TSPAN6 (7105)     3.510078  1.543643  0.000000  3.042644  3.893362  4.482848   \n",
       "TNMD (64102)      0.050606  0.208705  0.000000  0.000000  0.000000  0.000000   \n",
       "DPM1 (8813)       6.518938  0.600719  5.039577  6.132577  6.498889  6.925169   \n",
       "SCYL3 (57147)     2.336828  0.537316  1.144046  1.959770  2.307429  2.646163   \n",
       "C1orf112 (55732)  3.712460  0.745709  1.687061  3.269033  3.769772  4.193772   \n",
       "FGR (2268)        0.339826  1.010771  0.000000  0.014355  0.042644  0.124328   \n",
       "CFH (3075)        2.140230  2.159519  0.000000  0.150560  1.321928  3.879706   \n",
       "FUCA2 (2519)      5.264649  1.715315  0.056584  4.990501  5.748193  6.281327   \n",
       "GCLC (2729)       4.691081  1.168893  2.032101  3.976364  4.568032  5.296824   \n",
       "NFYA (4800)       4.065951  0.712347  2.260026  3.606442  4.045268  4.500165   \n",
       "\n",
       "                       max  \n",
       "TSPAN6 (7105)     6.018145  \n",
       "TNMD (64102)      1.584963  \n",
       "DPM1 (8813)       8.053817  \n",
       "SCYL3 (57147)     3.971773  \n",
       "C1orf112 (55732)  5.299391  \n",
       "FGR (2268)        6.018145  \n",
       "CFH (3075)        7.222360  \n",
       "FUCA2 (2519)      7.477030  \n",
       "GCLC (2729)       8.530016  \n",
       "NFYA (4800)       5.794156  "
      ]
     },
     "execution_count": 34,
     "metadata": {},
     "output_type": "execute_result"
    }
   ],
   "source": [
    "genes_winz.describe().T[['mean', 'std', 'min', '25%', '50%', '75%', 'max']].head(10)"
   ]
  },
  {
   "cell_type": "markdown",
   "id": "34c0362c-53cb-4a98-8158-be11a74d85f5",
   "metadata": {},
   "source": [
    "## Reducing dimensionality to Genes data (PCA)"
   ]
  },
  {
   "cell_type": "code",
   "execution_count": 36,
   "id": "9797f07d-ac90-4ee2-aa8c-476054cb03bc",
   "metadata": {},
   "outputs": [],
   "source": [
    "#genes_df = genes_w.set_index('cell_line')"
   ]
  },
  {
   "cell_type": "code",
   "execution_count": 37,
   "id": "b1616f79-1ce3-4cfe-a533-9d1fceab6e36",
   "metadata": {},
   "outputs": [],
   "source": [
    "# Scalling data before PCA\n",
    "from sklearn.decomposition import PCA\n",
    "from sklearn.preprocessing import StandardScaler\n",
    "\n",
    "scaler = StandardScaler()\n",
    "genes_scaled = scaler.fit_transform(genes_winz)"
   ]
  },
  {
   "cell_type": "code",
   "execution_count": 38,
   "id": "8552d4da-0499-44fc-ae98-dab344d9d941",
   "metadata": {},
   "outputs": [],
   "source": [
    "# Back to dataframe \n",
    "\n",
    "genes_scaled_df = pd.DataFrame(\n",
    "    genes_scaled,\n",
    "    index=genes_winz.index,             # re-attach cell line names\n",
    "    columns=genes_winz.columns          # keep gene names\n",
    ")"
   ]
  },
  {
   "cell_type": "code",
   "execution_count": 43,
   "id": "2d8d3320-9fe6-428e-9a21-6df9e26ea323",
   "metadata": {},
   "outputs": [],
   "source": [
    "# Keeping components that together explain 95% of the variation\n",
    "pca = PCA(n_components=0.95)  \n",
    "genes_pca = pca.fit_transform(genes_scaled_df)"
   ]
  },
  {
   "cell_type": "code",
   "execution_count": 44,
   "id": "f6ed2696-a112-4d0c-aed0-ab0ebffe2d77",
   "metadata": {},
   "outputs": [],
   "source": [
    "# Back to DF\n",
    "genes_pca_df = pd.DataFrame(\n",
    "    genes_pca,\n",
    "    index=genes_scaled_df.index,                    # cell line names\n",
    "    columns=[f'PC{i+1}' for i in range(genes_pca.shape[1])]  # PC1, PC2, ..., PCn\n",
    ")"
   ]
  },
  {
   "cell_type": "code",
   "execution_count": 45,
   "id": "4868ac06-eee4-4c44-b13b-7dd712b31ee4",
   "metadata": {},
   "outputs": [
    {
     "data": {
      "image/png": "[encoded data removed]",
      "text/plain": [
       "<Figure size 640x480 with 1 Axes>"
      ]
     },
     "metadata": {},
     "output_type": "display_data"
    }
   ],
   "source": [
    "# PCA variance explanation \n",
    "import matplotlib.pyplot as plt\n",
    "\n",
    "explained_var = pca.explained_variance_ratio_\n",
    "\n",
    "plt.plot(range(1, len(explained_var) + 1), explained_var.cumsum(), marker='o')\n",
    "plt.xlabel(\"Number of Principal Components\")\n",
    "plt.ylabel(\"Cumulative Explained Variance\")\n",
    "plt.title(\"Explained Variance by PCA Components\")\n",
    "plt.grid(True)\n",
    "plt.show()"
   ]
  },
  {
   "cell_type": "markdown",
   "id": "48d31cb5-afd3-4e48-bb8a-32ec5a8b6c3a",
   "metadata": {},
   "source": [
    "## Merging both Datasets Gene expression and Drug efficacy "
   ]
  },
  {
   "cell_type": "code",
   "execution_count": 53,
   "id": "e11ce642-d7e3-4a18-a7d0-05b15cd120f2",
   "metadata": {},
   "outputs": [
    {
     "name": "stdout",
     "output_type": "stream",
     "text": [
      "Index(['index', 'BRD:BRD-K00003313-001-01-9'], dtype='object')\n",
      "Index(['index', 'PC1', 'PC2', 'PC3', 'PC4', 'PC5', 'PC6', 'PC7', 'PC8', 'PC9',\n",
      "       ...\n",
      "       'PC643', 'PC644', 'PC645', 'PC646', 'PC647', 'PC648', 'PC649', 'PC650',\n",
      "       'PC651', 'PC652'],\n",
      "      dtype='object', length=653)\n"
     ]
    }
   ],
   "source": [
    "print(drug_winz.reset_index().columns)\n",
    "print(genes_pca_df.reset_index().columns)"
   ]
  },
  {
   "cell_type": "code",
   "execution_count": 54,
   "id": "3ff41298-1e04-4584-8d93-772e2041568b",
   "metadata": {},
   "outputs": [],
   "source": [
    "drug_winz = drug_winz.reset_index().rename(columns={'index': 'cell_line'})\n",
    "genes_pca_df = genes_pca_df.reset_index().rename(columns={'index': 'cell_line'})"
   ]
  },
  {
   "cell_type": "code",
   "execution_count": 55,
   "id": "c325291f-488e-4e0a-9c13-4e5b70d59b83",
   "metadata": {},
   "outputs": [],
   "source": [
    "# Merging both datasets by cell line\n",
    "model_df = pd.merge(drug_winz, genes_pca_df, on='cell_line')"
   ]
  },
  {
   "cell_type": "code",
   "execution_count": 56,
   "id": "8c78c2b8-ec56-4637-b287-408d14cbccab",
   "metadata": {
    "scrolled": true
   },
   "outputs": [
    {
     "name": "stdout",
     "output_type": "stream",
     "text": [
      "\n",
      "Successfully created the final modeling DataFrame:\n",
      "    cell_line  BRD:BRD-K00003313-001-01-9        PC1        PC2        PC3  \\\n",
      "0  ACH-001113                   -8.461378  23.364348  14.825284   2.816156   \n",
      "1  ACH-001289                   -9.195708  38.709622  -4.766234 -37.988884   \n",
      "2  ACH-001538                   -9.585021 -40.236002  21.843342  10.029860   \n",
      "3  ACH-000242                   -7.567494  -4.369054   6.293709  36.049804   \n",
      "4  ACH-000233                  -10.629807   9.485786 -29.753327   5.636269   \n",
      "\n",
      "         PC4        PC5        PC6        PC7        PC8  ...     PC643  \\\n",
      "0 -14.869077  11.553541 -37.582677   2.888078  14.349406  ... -2.173736   \n",
      "1 -42.154913  30.420929 -31.841598  26.183205  -3.906513  ...  1.806952   \n",
      "2   9.155005  28.864677 -51.755539  10.318268  13.391737  ... -3.564490   \n",
      "3   5.832951  21.160278   3.951811  -5.816701  16.390139  ...  2.105330   \n",
      "4  33.956190 -31.960267 -18.882605   7.308851  -8.904579  ...  0.207699   \n",
      "\n",
      "      PC644     PC645     PC646     PC647     PC648     PC649     PC650  \\\n",
      "0  1.228823  2.420326 -1.128922 -0.759561 -0.384281  4.076002  1.808937   \n",
      "1 -0.032046  0.418285 -0.871375 -0.256406 -0.161628  0.153130 -0.479199   \n",
      "2 -4.477028 -2.501135  0.168067  2.091420  0.585346 -0.553620  1.649894   \n",
      "3 -1.576976 -0.432573 -2.485095  5.254010 -4.666250  2.363470  4.290711   \n",
      "4  1.405645 -0.301008  2.048893  0.426584  2.422556  3.762167  0.787017   \n",
      "\n",
      "      PC651     PC652  \n",
      "0 -2.212699 -0.594434  \n",
      "1 -0.626783  0.066400  \n",
      "2  0.723906  0.376251  \n",
      "3 -0.840621 -3.528629  \n",
      "4 -1.785400  0.081965  \n",
      "\n",
      "[5 rows x 654 columns]\n",
      "Shape of the final DataFrame: (830, 654)\n"
     ]
    }
   ],
   "source": [
    "print(\"\\nSuccessfully created the final modeling DataFrame:\")\n",
    "print(model_df.head())\n",
    "print(f\"Shape of the final DataFrame: {model_df.shape}\")"
   ]
  },
  {
   "cell_type": "markdown",
   "id": "3f90e278-6d0d-4111-9a2e-fe5a4cab934a",
   "metadata": {},
   "source": [
    "## 1_Regression Model "
   ]
  },
  {
   "cell_type": "code",
   "execution_count": 67,
   "id": "886f9df3-5527-4238-b7d3-c725180c70a0",
   "metadata": {
    "scrolled": true
   },
   "outputs": [],
   "source": [
    "# Spliting X and y , features and target \n",
    "X = model_df.drop(columns=['cell_line', target_drug])\n",
    "\n",
    "# Target, drug efficacy for this drug\n",
    "y = model_df[target_drug]"
   ]
  },
  {
   "cell_type": "code",
   "execution_count": 68,
   "id": "32f136e5-2cdf-4170-b22c-9182f87179f7",
   "metadata": {},
   "outputs": [],
   "source": [
    "from sklearn.model_selection import train_test_split\n",
    "\n",
    "X_train, X_test, y_train, y_test = train_test_split(\n",
    "    X, y, test_size=0.2, random_state=42\n",
    ")"
   ]
  },
  {
   "cell_type": "code",
   "execution_count": 69,
   "id": "ff9fc3e2-91f6-483a-8aa0-001f8efee20f",
   "metadata": {},
   "outputs": [
    {
     "data": {
      "text/html": [
       "<style>#sk-container-id-1 {\n",
       "  /* Definition of color scheme common for light and dark mode */\n",
       "  --sklearn-color-text: #000;\n",
       "  --sklearn-color-text-muted: #666;\n",
       "  --sklearn-color-line: gray;\n",
       "  /* Definition of color scheme for unfitted estimators */\n",
       "  --sklearn-color-unfitted-level-0: #fff5e6;\n",
       "  --sklearn-color-unfitted-level-1: #f6e4d2;\n",
       "  --sklearn-color-unfitted-level-2: #ffe0b3;\n",
       "  --sklearn-color-unfitted-level-3: chocolate;\n",
       "  /* Definition of color scheme for fitted estimators */\n",
       "  --sklearn-color-fitted-level-0: #f0f8ff;\n",
       "  --sklearn-color-fitted-level-1: #d4ebff;\n",
       "  --sklearn-color-fitted-level-2: #b3dbfd;\n",
       "  --sklearn-color-fitted-level-3: cornflowerblue;\n",
       "\n",
       "  /* Specific color for light theme */\n",
       "  --sklearn-color-text-on-default-background: var(--sg-text-color, var(--theme-code-foreground, var(--jp-content-font-color1, black)));\n",
       "  --sklearn-color-background: var(--sg-background-color, var(--theme-background, var(--jp-layout-color0, white)));\n",
       "  --sklearn-color-border-box: var(--sg-text-color, var(--theme-code-foreground, var(--jp-content-font-color1, black)));\n",
       "  --sklearn-color-icon: #696969;\n",
       "\n",
       "  @media (prefers-color-scheme: dark) {\n",
       "    /* Redefinition of color scheme for dark theme */\n",
       "    --sklearn-color-text-on-default-background: var(--sg-text-color, var(--theme-code-foreground, var(--jp-content-font-color1, white)));\n",
       "    --sklearn-color-background: var(--sg-background-color, var(--theme-background, var(--jp-layout-color0, #111)));\n",
       "    --sklearn-color-border-box: var(--sg-text-color, var(--theme-code-foreground, var(--jp-content-font-color1, white)));\n",
       "    --sklearn-color-icon: #878787;\n",
       "  }\n",
       "}\n",
       "\n",
       "#sk-container-id-1 {\n",
       "  color: var(--sklearn-color-text);\n",
       "}\n",
       "\n",
       "#sk-container-id-1 pre {\n",
       "  padding: 0;\n",
       "}\n",
       "\n",
       "#sk-container-id-1 input.sk-hidden--visually {\n",
       "  border: 0;\n",
       "  clip: rect(1px 1px 1px 1px);\n",
       "  clip: rect(1px, 1px, 1px, 1px);\n",
       "  height: 1px;\n",
       "  margin: -1px;\n",
       "  overflow: hidden;\n",
       "  padding: 0;\n",
       "  position: absolute;\n",
       "  width: 1px;\n",
       "}\n",
       "\n",
       "#sk-container-id-1 div.sk-dashed-wrapped {\n",
       "  border: 1px dashed var(--sklearn-color-line);\n",
       "  margin: 0 0.4em 0.5em 0.4em;\n",
       "  box-sizing: border-box;\n",
       "  padding-bottom: 0.4em;\n",
       "  background-color: var(--sklearn-color-background);\n",
       "}\n",
       "\n",
       "#sk-container-id-1 div.sk-container {\n",
       "  /* jupyter's `normalize.less` sets `[hidden] { display: none; }`\n",
       "     but bootstrap.min.css set `[hidden] { display: none !important; }`\n",
       "     so we also need the `!important` here to be able to override the\n",
       "     default hidden behavior on the sphinx rendered scikit-learn.org.\n",
       "     See: https://github.com/scikit-learn/scikit-learn/issues/21755 */\n",
       "  display: inline-block !important;\n",
       "  position: relative;\n",
       "}\n",
       "\n",
       "#sk-container-id-1 div.sk-text-repr-fallback {\n",
       "  display: none;\n",
       "}\n",
       "\n",
       "div.sk-parallel-item,\n",
       "div.sk-serial,\n",
       "div.sk-item {\n",
       "  /* draw centered vertical line to link estimators */\n",
       "  background-image: linear-gradient(var(--sklearn-color-text-on-default-background), var(--sklearn-color-text-on-default-background));\n",
       "  background-size: 2px 100%;\n",
       "  background-repeat: no-repeat;\n",
       "  background-position: center center;\n",
       "}\n",
       "\n",
       "/* Parallel-specific style estimator block */\n",
       "\n",
       "#sk-container-id-1 div.sk-parallel-item::after {\n",
       "  content: \"\";\n",
       "  width: 100%;\n",
       "  border-bottom: 2px solid var(--sklearn-color-text-on-default-background);\n",
       "  flex-grow: 1;\n",
       "}\n",
       "\n",
       "#sk-container-id-1 div.sk-parallel {\n",
       "  display: flex;\n",
       "  align-items: stretch;\n",
       "  justify-content: center;\n",
       "  background-color: var(--sklearn-color-background);\n",
       "  position: relative;\n",
       "}\n",
       "\n",
       "#sk-container-id-1 div.sk-parallel-item {\n",
       "  display: flex;\n",
       "  flex-direction: column;\n",
       "}\n",
       "\n",
       "#sk-container-id-1 div.sk-parallel-item:first-child::after {\n",
       "  align-self: flex-end;\n",
       "  width: 50%;\n",
       "}\n",
       "\n",
       "#sk-container-id-1 div.sk-parallel-item:last-child::after {\n",
       "  align-self: flex-start;\n",
       "  width: 50%;\n",
       "}\n",
       "\n",
       "#sk-container-id-1 div.sk-parallel-item:only-child::after {\n",
       "  width: 0;\n",
       "}\n",
       "\n",
       "/* Serial-specific style estimator block */\n",
       "\n",
       "#sk-container-id-1 div.sk-serial {\n",
       "  display: flex;\n",
       "  flex-direction: column;\n",
       "  align-items: center;\n",
       "  background-color: var(--sklearn-color-background);\n",
       "  padding-right: 1em;\n",
       "  padding-left: 1em;\n",
       "}\n",
       "\n",
       "\n",
       "/* Toggleable style: style used for estimator/Pipeline/ColumnTransformer box that is\n",
       "clickable and can be expanded/collapsed.\n",
       "- Pipeline and ColumnTransformer use this feature and define the default style\n",
       "- Estimators will overwrite some part of the style using the `sk-estimator` class\n",
       "*/\n",
       "\n",
       "/* Pipeline and ColumnTransformer style (default) */\n",
       "\n",
       "#sk-container-id-1 div.sk-toggleable {\n",
       "  /* Default theme specific background. It is overwritten whether we have a\n",
       "  specific estimator or a Pipeline/ColumnTransformer */\n",
       "  background-color: var(--sklearn-color-background);\n",
       "}\n",
       "\n",
       "/* Toggleable label */\n",
       "#sk-container-id-1 label.sk-toggleable__label {\n",
       "  cursor: pointer;\n",
       "  display: flex;\n",
       "  width: 100%;\n",
       "  margin-bottom: 0;\n",
       "  padding: 0.5em;\n",
       "  box-sizing: border-box;\n",
       "  text-align: center;\n",
       "  align-items: start;\n",
       "  justify-content: space-between;\n",
       "  gap: 0.5em;\n",
       "}\n",
       "\n",
       "#sk-container-id-1 label.sk-toggleable__label .caption {\n",
       "  font-size: 0.6rem;\n",
       "  font-weight: lighter;\n",
       "  color: var(--sklearn-color-text-muted);\n",
       "}\n",
       "\n",
       "#sk-container-id-1 label.sk-toggleable__label-arrow:before {\n",
       "  /* Arrow on the left of the label */\n",
       "  content: \"▸\";\n",
       "  float: left;\n",
       "  margin-right: 0.25em;\n",
       "  color: var(--sklearn-color-icon);\n",
       "}\n",
       "\n",
       "#sk-container-id-1 label.sk-toggleable__label-arrow:hover:before {\n",
       "  color: var(--sklearn-color-text);\n",
       "}\n",
       "\n",
       "/* Toggleable content - dropdown */\n",
       "\n",
       "#sk-container-id-1 div.sk-toggleable__content {\n",
       "  max-height: 0;\n",
       "  max-width: 0;\n",
       "  overflow: hidden;\n",
       "  text-align: left;\n",
       "  /* unfitted */\n",
       "  background-color: var(--sklearn-color-unfitted-level-0);\n",
       "}\n",
       "\n",
       "#sk-container-id-1 div.sk-toggleable__content.fitted {\n",
       "  /* fitted */\n",
       "  background-color: var(--sklearn-color-fitted-level-0);\n",
       "}\n",
       "\n",
       "#sk-container-id-1 div.sk-toggleable__content pre {\n",
       "  margin: 0.2em;\n",
       "  border-radius: 0.25em;\n",
       "  color: var(--sklearn-color-text);\n",
       "  /* unfitted */\n",
       "  background-color: var(--sklearn-color-unfitted-level-0);\n",
       "}\n",
       "\n",
       "#sk-container-id-1 div.sk-toggleable__content.fitted pre {\n",
       "  /* unfitted */\n",
       "  background-color: var(--sklearn-color-fitted-level-0);\n",
       "}\n",
       "\n",
       "#sk-container-id-1 input.sk-toggleable__control:checked~div.sk-toggleable__content {\n",
       "  /* Expand drop-down */\n",
       "  max-height: 200px;\n",
       "  max-width: 100%;\n",
       "  overflow: auto;\n",
       "}\n",
       "\n",
       "#sk-container-id-1 input.sk-toggleable__control:checked~label.sk-toggleable__label-arrow:before {\n",
       "  content: \"▾\";\n",
       "}\n",
       "\n",
       "/* Pipeline/ColumnTransformer-specific style */\n",
       "\n",
       "#sk-container-id-1 div.sk-label input.sk-toggleable__control:checked~label.sk-toggleable__label {\n",
       "  color: var(--sklearn-color-text);\n",
       "  background-color: var(--sklearn-color-unfitted-level-2);\n",
       "}\n",
       "\n",
       "#sk-container-id-1 div.sk-label.fitted input.sk-toggleable__control:checked~label.sk-toggleable__label {\n",
       "  background-color: var(--sklearn-color-fitted-level-2);\n",
       "}\n",
       "\n",
       "/* Estimator-specific style */\n",
       "\n",
       "/* Colorize estimator box */\n",
       "#sk-container-id-1 div.sk-estimator input.sk-toggleable__control:checked~label.sk-toggleable__label {\n",
       "  /* unfitted */\n",
       "  background-color: var(--sklearn-color-unfitted-level-2);\n",
       "}\n",
       "\n",
       "#sk-container-id-1 div.sk-estimator.fitted input.sk-toggleable__control:checked~label.sk-toggleable__label {\n",
       "  /* fitted */\n",
       "  background-color: var(--sklearn-color-fitted-level-2);\n",
       "}\n",
       "\n",
       "#sk-container-id-1 div.sk-label label.sk-toggleable__label,\n",
       "#sk-container-id-1 div.sk-label label {\n",
       "  /* The background is the default theme color */\n",
       "  color: var(--sklearn-color-text-on-default-background);\n",
       "}\n",
       "\n",
       "/* On hover, darken the color of the background */\n",
       "#sk-container-id-1 div.sk-label:hover label.sk-toggleable__label {\n",
       "  color: var(--sklearn-color-text);\n",
       "  background-color: var(--sklearn-color-unfitted-level-2);\n",
       "}\n",
       "\n",
       "/* Label box, darken color on hover, fitted */\n",
       "#sk-container-id-1 div.sk-label.fitted:hover label.sk-toggleable__label.fitted {\n",
       "  color: var(--sklearn-color-text);\n",
       "  background-color: var(--sklearn-color-fitted-level-2);\n",
       "}\n",
       "\n",
       "/* Estimator label */\n",
       "\n",
       "#sk-container-id-1 div.sk-label label {\n",
       "  font-family: monospace;\n",
       "  font-weight: bold;\n",
       "  display: inline-block;\n",
       "  line-height: 1.2em;\n",
       "}\n",
       "\n",
       "#sk-container-id-1 div.sk-label-container {\n",
       "  text-align: center;\n",
       "}\n",
       "\n",
       "/* Estimator-specific */\n",
       "#sk-container-id-1 div.sk-estimator {\n",
       "  font-family: monospace;\n",
       "  border: 1px dotted var(--sklearn-color-border-box);\n",
       "  border-radius: 0.25em;\n",
       "  box-sizing: border-box;\n",
       "  margin-bottom: 0.5em;\n",
       "  /* unfitted */\n",
       "  background-color: var(--sklearn-color-unfitted-level-0);\n",
       "}\n",
       "\n",
       "#sk-container-id-1 div.sk-estimator.fitted {\n",
       "  /* fitted */\n",
       "  background-color: var(--sklearn-color-fitted-level-0);\n",
       "}\n",
       "\n",
       "/* on hover */\n",
       "#sk-container-id-1 div.sk-estimator:hover {\n",
       "  /* unfitted */\n",
       "  background-color: var(--sklearn-color-unfitted-level-2);\n",
       "}\n",
       "\n",
       "#sk-container-id-1 div.sk-estimator.fitted:hover {\n",
       "  /* fitted */\n",
       "  background-color: var(--sklearn-color-fitted-level-2);\n",
       "}\n",
       "\n",
       "/* Specification for estimator info (e.g. \"i\" and \"?\") */\n",
       "\n",
       "/* Common style for \"i\" and \"?\" */\n",
       "\n",
       ".sk-estimator-doc-link,\n",
       "a:link.sk-estimator-doc-link,\n",
       "a:visited.sk-estimator-doc-link {\n",
       "  float: right;\n",
       "  font-size: smaller;\n",
       "  line-height: 1em;\n",
       "  font-family: monospace;\n",
       "  background-color: var(--sklearn-color-background);\n",
       "  border-radius: 1em;\n",
       "  height: 1em;\n",
       "  width: 1em;\n",
       "  text-decoration: none !important;\n",
       "  margin-left: 0.5em;\n",
       "  text-align: center;\n",
       "  /* unfitted */\n",
       "  border: var(--sklearn-color-unfitted-level-1) 1pt solid;\n",
       "  color: var(--sklearn-color-unfitted-level-1);\n",
       "}\n",
       "\n",
       ".sk-estimator-doc-link.fitted,\n",
       "a:link.sk-estimator-doc-link.fitted,\n",
       "a:visited.sk-estimator-doc-link.fitted {\n",
       "  /* fitted */\n",
       "  border: var(--sklearn-color-fitted-level-1) 1pt solid;\n",
       "  color: var(--sklearn-color-fitted-level-1);\n",
       "}\n",
       "\n",
       "/* On hover */\n",
       "div.sk-estimator:hover .sk-estimator-doc-link:hover,\n",
       ".sk-estimator-doc-link:hover,\n",
       "div.sk-label-container:hover .sk-estimator-doc-link:hover,\n",
       ".sk-estimator-doc-link:hover {\n",
       "  /* unfitted */\n",
       "  background-color: var(--sklearn-color-unfitted-level-3);\n",
       "  color: var(--sklearn-color-background);\n",
       "  text-decoration: none;\n",
       "}\n",
       "\n",
       "div.sk-estimator.fitted:hover .sk-estimator-doc-link.fitted:hover,\n",
       ".sk-estimator-doc-link.fitted:hover,\n",
       "div.sk-label-container:hover .sk-estimator-doc-link.fitted:hover,\n",
       ".sk-estimator-doc-link.fitted:hover {\n",
       "  /* fitted */\n",
       "  background-color: var(--sklearn-color-fitted-level-3);\n",
       "  color: var(--sklearn-color-background);\n",
       "  text-decoration: none;\n",
       "}\n",
       "\n",
       "/* Span, style for the box shown on hovering the info icon */\n",
       ".sk-estimator-doc-link span {\n",
       "  display: none;\n",
       "  z-index: 9999;\n",
       "  position: relative;\n",
       "  font-weight: normal;\n",
       "  right: .2ex;\n",
       "  padding: .5ex;\n",
       "  margin: .5ex;\n",
       "  width: min-content;\n",
       "  min-width: 20ex;\n",
       "  max-width: 50ex;\n",
       "  color: var(--sklearn-color-text);\n",
       "  box-shadow: 2pt 2pt 4pt #999;\n",
       "  /* unfitted */\n",
       "  background: var(--sklearn-color-unfitted-level-0);\n",
       "  border: .5pt solid var(--sklearn-color-unfitted-level-3);\n",
       "}\n",
       "\n",
       ".sk-estimator-doc-link.fitted span {\n",
       "  /* fitted */\n",
       "  background: var(--sklearn-color-fitted-level-0);\n",
       "  border: var(--sklearn-color-fitted-level-3);\n",
       "}\n",
       "\n",
       ".sk-estimator-doc-link:hover span {\n",
       "  display: block;\n",
       "}\n",
       "\n",
       "/* \"?\"-specific style due to the `<a>` HTML tag */\n",
       "\n",
       "#sk-container-id-1 a.estimator_doc_link {\n",
       "  float: right;\n",
       "  font-size: 1rem;\n",
       "  line-height: 1em;\n",
       "  font-family: monospace;\n",
       "  background-color: var(--sklearn-color-background);\n",
       "  border-radius: 1rem;\n",
       "  height: 1rem;\n",
       "  width: 1rem;\n",
       "  text-decoration: none;\n",
       "  /* unfitted */\n",
       "  color: var(--sklearn-color-unfitted-level-1);\n",
       "  border: var(--sklearn-color-unfitted-level-1) 1pt solid;\n",
       "}\n",
       "\n",
       "#sk-container-id-1 a.estimator_doc_link.fitted {\n",
       "  /* fitted */\n",
       "  border: var(--sklearn-color-fitted-level-1) 1pt solid;\n",
       "  color: var(--sklearn-color-fitted-level-1);\n",
       "}\n",
       "\n",
       "/* On hover */\n",
       "#sk-container-id-1 a.estimator_doc_link:hover {\n",
       "  /* unfitted */\n",
       "  background-color: var(--sklearn-color-unfitted-level-3);\n",
       "  color: var(--sklearn-color-background);\n",
       "  text-decoration: none;\n",
       "}\n",
       "\n",
       "#sk-container-id-1 a.estimator_doc_link.fitted:hover {\n",
       "  /* fitted */\n",
       "  background-color: var(--sklearn-color-fitted-level-3);\n",
       "}\n",
       "</style><div id=\"sk-container-id-1\" class=\"sk-top-container\"><div class=\"sk-text-repr-fallback\"><pre>LinearRegression()</pre><b>In a Jupyter environment, please rerun this cell to show the HTML representation or trust the notebook. <br />On GitHub, the HTML representation is unable to render, please try loading this page with nbviewer.org.</b></div><div class=\"sk-container\" hidden><div class=\"sk-item\"><div class=\"sk-estimator fitted sk-toggleable\"><input class=\"sk-toggleable__control sk-hidden--visually\" id=\"sk-estimator-id-1\" type=\"checkbox\" checked><label for=\"sk-estimator-id-1\" class=\"sk-toggleable__label fitted sk-toggleable__label-arrow\"><div><div>LinearRegression</div></div><div><a class=\"sk-estimator-doc-link fitted\" rel=\"noreferrer\" target=\"_blank\" href=\"https://scikit-learn.org/1.6/modules/generated/sklearn.linear_model.LinearRegression.html\">?<span>Documentation for LinearRegression</span></a><span class=\"sk-estimator-doc-link fitted\">i<span>Fitted</span></span></div></label><div class=\"sk-toggleable__content fitted\"><pre>LinearRegression()</pre></div> </div></div></div></div>"
      ],
      "text/plain": [
       "LinearRegression()"
      ]
     },
     "execution_count": 69,
     "metadata": {},
     "output_type": "execute_result"
    }
   ],
   "source": [
    "# Baseline linear Regression \n",
    "from sklearn.linear_model import LinearRegression\n",
    "from sklearn.metrics import r2_score, mean_squared_error\n",
    "\n",
    "lr = LinearRegression()\n",
    "lr.fit(X_train, y_train)"
   ]
  },
  {
   "cell_type": "code",
   "execution_count": 70,
   "id": "159cc452-5ab4-4c64-a5ab-07610a5b64b6",
   "metadata": {},
   "outputs": [],
   "source": [
    "y_pred = lr.predict(X_test)"
   ]
  },
  {
   "cell_type": "code",
   "execution_count": 73,
   "id": "ab4f43ce-5abc-4021-8538-5656dd65c36a",
   "metadata": {},
   "outputs": [
    {
     "name": "stdout",
     "output_type": "stream",
     "text": [
      "Linear Regression R²: -186.1856\n",
      "Linear Regression RMSE: 38.5657\n"
     ]
    }
   ],
   "source": [
    "# Evaluation \n",
    "# Evaluate\n",
    "r2 = r2_score(y_test, y_pred)\n",
    "mse = mean_squared_error(y_test, y_pred)\n",
    "rmse = np.sqrt(mse)\n",
    "\n",
    "print(f\"Linear Regression R²: {r2:.4f}\")\n",
    "print(f\"Linear Regression RMSE: {rmse:.4f}\")"
   ]
  },
  {
   "cell_type": "code",
   "execution_count": 78,
   "id": "ef82eb0d-fff7-45c5-a858-167c26466f83",
   "metadata": {},
   "outputs": [
    {
     "data": {
      "image/png": "[encoded data removed]",
      "text/plain": [
       "<Figure size 600x600 with 1 Axes>"
      ]
     },
     "metadata": {},
     "output_type": "display_data"
    }
   ],
   "source": [
    "import matplotlib.pyplot as plt\n",
    "import seaborn as sns\n",
    "\n",
    "plt.figure(figsize=(6, 6))\n",
    "sns.scatterplot(x=y_test, y=y_pred, alpha=0.6)\n",
    "plt.plot([y_test.min(), y_test.max()], [y_test.min(), y_test.max()], '--r', label='Perfect prediction')\n",
    "plt.xlabel(\"Actual Efficacy\")\n",
    "plt.ylabel(\"Predicted Efficacy\")\n",
    "plt.title(\"Predicted vs Actual (Linear Regression)\")\n",
    "plt.legend()\n",
    "plt.grid(True)\n",
    "plt.show()"
   ]
  },
  {
   "cell_type": "code",
   "execution_count": 101,
   "id": "0d6d1d14-e33e-4652-8e1b-3af69c1f66e5",
   "metadata": {},
   "outputs": [
    {
     "data": {
      "image/png": "[encoded data removed]",
      "text/plain": [
       "<Figure size 1200x500 with 2 Axes>"
      ]
     },
     "metadata": {},
     "output_type": "display_data"
    }
   ],
   "source": [
    "y_train_pred = lr.predict(X_train)\n",
    "\n",
    "plt.figure(figsize=(12, 5))\n",
    "\n",
    "plt.subplot(1, 2, 1)\n",
    "sns.scatterplot(x=y_train, y=y_train_pred, alpha=0.6)\n",
    "plt.plot([y_train.min(), y_train.max()], [y_train.min(), y_train.max()], '--r', label='Perfect')\n",
    "plt.xlabel(\"Actual (Train)\")\n",
    "plt.ylabel(\"Predicted (Train)\")\n",
    "plt.title(\"Train Set Performance\")\n",
    "plt.legend()\n",
    "plt.grid(True)\n",
    "\n",
    "plt.subplot(1, 2, 2)\n",
    "sns.scatterplot(x=y_test, y=y_pred, alpha=0.6)\n",
    "plt.plot([y_test.min(), y_test.max()], [y_test.min(), y_test.max()], '--r', label='Perfect')\n",
    "plt.xlabel(\"Actual (Test)\")\n",
    "plt.ylabel(\"Predicted (Test)\")\n",
    "plt.title(\"Test Set Performance\")\n",
    "plt.legend()\n",
    "plt.grid(True)\n",
    "\n",
    "plt.tight_layout()\n",
    "plt.show()"
   ]
  },
  {
   "cell_type": "code",
   "execution_count": 103,
   "id": "5c8f20b7-8c24-4d3b-bf44-c9c188986a5a",
   "metadata": {},
   "outputs": [
    {
     "data": {
      "image/png": "[encoded data removed]",
      "text/plain": [
       "<Figure size 640x480 with 1 Axes>"
      ]
     },
     "metadata": {},
     "output_type": "display_data"
    }
   ],
   "source": [
    "from sklearn.model_selection import learning_curve\n",
    "\n",
    "train_sizes, train_scores, test_scores = learning_curve(\n",
    "    LinearRegression(), X, y, cv=5, scoring='r2', train_sizes=np.linspace(0.1, 1.0, 10)\n",
    ")\n",
    "\n",
    "train_scores_mean = train_scores.mean(axis=1)\n",
    "test_scores_mean = test_scores.mean(axis=1)\n",
    "\n",
    "plt.plot(train_sizes, train_scores_mean, label=\"Train R²\")\n",
    "plt.plot(train_sizes, test_scores_mean, label=\"Test R²\")\n",
    "plt.xlabel(\"Training set size\")\n",
    "plt.ylabel(\"R² score\")\n",
    "plt.title(\"Learning Curve (Linear Regression)\")\n",
    "plt.legend()\n",
    "plt.grid(True)\n",
    "plt.show()"
   ]
  },
  {
   "cell_type": "markdown",
   "id": "7ffd3a0f-98c1-45f3-a6b7-ae5b72ded5a0",
   "metadata": {
    "jp-MarkdownHeadingCollapsed": true
   },
   "source": [
    "## 2_Decission Tree Regressor Model"
   ]
  },
  {
   "cell_type": "code",
   "execution_count": null,
   "id": "3afbfbfc-011c-4fef-ae00-878677d5261c",
   "metadata": {},
   "outputs": [],
   "source": [
    "from sklearn.tree import DecisionTreeRegressor\n",
    "\n",
    "# Initialize with default settings\n",
    "tree = DecisionTreeRegressor(random_state=42)\n",
    "tree.fit(X_train, y_train)"
   ]
  },
  {
   "cell_type": "code",
   "execution_count": null,
   "id": "c64960e0-8805-4975-84b6-bcd52e0184ca",
   "metadata": {},
   "outputs": [],
   "source": [
    "# Predict\n",
    "y_pred_tree = tree.predict(X_test)"
   ]
  },
  {
   "cell_type": "code",
   "execution_count": null,
   "id": "699e5cb5-0dfb-45e7-b103-7ddc0e3ef9b0",
   "metadata": {},
   "outputs": [],
   "source": [
    "# Evaluation \n",
    "r2_tree = r2_score(y_test, y_pred_tree)\n",
    "rmse_tree = np.sqrt(mean_squared_error(y_test, y_pred_tree))\n",
    "\n",
    "print(f\"Decision Tree R²: {r2_tree:.4f}\")\n",
    "print(f\"Decision Tree RMSE: {rmse_tree:.4f}\")"
   ]
  },
  {
   "cell_type": "code",
   "execution_count": null,
   "id": "fcd66b2c-66ce-42c9-8ec2-2b5e3bdca44d",
   "metadata": {},
   "outputs": [],
   "source": [
    "# Predicted vs Actual\n",
    "sns.scatterplot(x=y_test, y=y_pred_tree, alpha=0.6)\n",
    "plt.plot([y_test.min(), y_test.max()], [y_test.min(), y_test.max()], '--r')\n",
    "plt.xlabel(\"Actual Efficacy\")\n",
    "plt.ylabel(\"Predicted Efficacy\")\n",
    "plt.title(\"Decision Tree: Predicted vs Actual\")\n",
    "plt.grid(True)\n",
    "plt.show()"
   ]
  },
  {
   "cell_type": "markdown",
   "id": "94604599-177f-47ab-891e-e10e21965208",
   "metadata": {
    "jp-MarkdownHeadingCollapsed": true
   },
   "source": [
    "## 3_XGBoost Regressor Model "
   ]
  },
  {
   "cell_type": "code",
   "execution_count": null,
   "id": "883ea4b5-b859-49ce-b266-4963523fec60",
   "metadata": {},
   "outputs": [],
   "source": [
    "from xgboost import XGBRegressor\n",
    "\n",
    "# Initialize model \n",
    "xgb = XGBRegressor(\n",
    "    max_depth=6,\n",
    "    n_estimators=500,\n",
    "    learning_rate=0.03,\n",
    "    subsample=0.8,\n",
    "    colsample_bytree=0.8,\n",
    "    reg_lambda=1,\n",
    "    reg_alpha=1,\n",
    "    random_state=42\n",
    ")"
   ]
  },
  {
   "cell_type": "code",
   "execution_count": null,
   "id": "5bbd92d0-54ed-4e98-a48a-a28af170adea",
   "metadata": {},
   "outputs": [],
   "source": [
    "# Train\n",
    "xgb.fit(X_train, y_train)\n",
    "\n",
    "# Predict\n",
    "y_pred_xgb = xgb.predict(X_test)"
   ]
  },
  {
   "cell_type": "code",
   "execution_count": null,
   "id": "b2a57dd4-792c-4879-8231-3977d9ccbe7c",
   "metadata": {},
   "outputs": [],
   "source": [
    "r2_xgb = r2_score(y_test, y_pred_xgb)\n",
    "rmse_xgb = np.sqrt(mean_squared_error(y_test, y_pred_xgb))\n",
    "\n",
    "print(f\"XGBoost R²: {r2_xgb:.4f}\")\n",
    "print(f\"XGBoost RMSE: {rmse_xgb:.4f}\")\n",
    "\n",
    "import seaborn as sns\n",
    "import matplotlib.pyplot as plt\n",
    "\n",
    "sns.scatterplot(x=y_test, y=y_pred_xgb, alpha=0.6)\n",
    "plt.plot([y_test.min(), y_test.max()], [y_test.min(), y_test.max()], '--r')\n",
    "plt.xlabel(\"Actual Efficacy\")\n",
    "plt.ylabel(\"Predicted Efficacy\")\n",
    "plt.title(\"XGBoost: Predicted vs Actual\")\n",
    "plt.grid(True)\n",
    "plt.show()"
   ]
  },
  {
   "cell_type": "code",
   "execution_count": 98,
   "id": "b824ef38-abce-4d50-be8d-187bd814d258",
   "metadata": {},
   "outputs": [
    {
     "data": {
      "text/plain": [
       "\"from sklearn.model_selection import learning_curve\\nimport numpy as np\\nimport matplotlib.pyplot as plt\\n\\n# Compute learning curve\\ntrain_sizes, train_scores, test_scores = learning_curve(\\n    estimator=xgb,\\n    X=X_train,\\n    y=y_train,\\n    train_sizes=np.linspace(0.1, 1.0, 10),  # 10 increments from 10% to 100%\\n    cv=5,\\n    scoring='neg_root_mean_squared_error',\\n    n_jobs=-1,\\n    shuffle=True,\\n    random_state=42\\n)\\n\\n# Convert to positive RMSE values\\ntrain_rmse = -np.mean(train_scores, axis=1)\\ntest_rmse = -np.mean(test_scores, axis=1)\\n\\n# Plot\\nplt.figure(figsize=(8, 5))\\nplt.plot(train_sizes, train_rmse, 'o-', label='Training RMSE')\\nplt.plot(train_sizes, test_rmse, 'o-', label='Validation RMSE')\\nplt.title('Learning Curve (XGBoost)')\\nplt.xlabel('Training Set Size')\\nplt.ylabel('RMSE')\\nplt.legend()\\nplt.grid(True)\\nplt.tight_layout()\\nplt.show()\""
      ]
     },
     "execution_count": 98,
     "metadata": {},
     "output_type": "execute_result"
    }
   ],
   "source": [
    "\"\"\"from sklearn.model_selection import learning_curve\n",
    "import numpy as np\n",
    "import matplotlib.pyplot as plt\n",
    "\n",
    "# Compute learning curve\n",
    "train_sizes, train_scores, test_scores = learning_curve(\n",
    "    estimator=xgb,\n",
    "    X=X_train,\n",
    "    y=y_train,\n",
    "    train_sizes=np.linspace(0.1, 1.0, 10),  # 10 increments from 10% to 100%\n",
    "    cv=5,\n",
    "    scoring='neg_root_mean_squared_error',\n",
    "    n_jobs=-1,\n",
    "    shuffle=True,\n",
    "    random_state=42\n",
    ")\n",
    "\n",
    "# Convert to positive RMSE values\n",
    "train_rmse = -np.mean(train_scores, axis=1)\n",
    "test_rmse = -np.mean(test_scores, axis=1)\n",
    "\n",
    "# Plot\n",
    "plt.figure(figsize=(8, 5))\n",
    "plt.plot(train_sizes, train_rmse, 'o-', label='Training RMSE')\n",
    "plt.plot(train_sizes, test_rmse, 'o-', label='Validation RMSE')\n",
    "plt.title('Learning Curve (XGBoost)')\n",
    "plt.xlabel('Training Set Size')\n",
    "plt.ylabel('RMSE')\n",
    "plt.legend()\n",
    "plt.grid(True)\n",
    "plt.tight_layout()\n",
    "plt.show()\"\"\""
   ]
  },
  {
   "cell_type": "code",
   "execution_count": null,
   "id": "dc37c9c3-6a0a-43d4-94fd-381bd2513a3b",
   "metadata": {},
   "outputs": [],
   "source": []
  }
 ],
 "metadata": {
  "kernelspec": {
   "display_name": "Python [conda env:base] *",
   "language": "python",
   "name": "conda-base-py"
  },
  "language_info": {
   "codemirror_mode": {
    "name": "ipython",
    "version": 3
   },
   "file_extension": ".py",
   "mimetype": "text/x-python",
   "name": "python",
   "nbconvert_exporter": "python",
   "pygments_lexer": "ipython3",
   "version": "3.12.7"
  }
 },
 "nbformat": 4,
 "nbformat_minor": 5
}
