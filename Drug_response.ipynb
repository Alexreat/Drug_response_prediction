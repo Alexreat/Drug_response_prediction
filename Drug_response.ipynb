{
 "cells": [
  {
   "cell_type": "code",
   "execution_count": 1,
   "id": "f13e5f39-a086-46f2-ac74-934538fa1f87",
   "metadata": {},
   "outputs": [],
   "source": [
    "import pandas as pd\n",
    "import numpy as np"
   ]
  },
  {
   "cell_type": "code",
   "execution_count": 2,
   "id": "d08390d2-2ade-4d23-9273-6f93a3a11938",
   "metadata": {},
   "outputs": [],
   "source": [
    "# Importing main data cell lines and drug response\n",
    "cell_lines_pd = pd.read_csv (\"OmicsExpressionProteinCodingGenesTPMLogp1.csv\", index_col=0)\n",
    "response_pd = pd.read_csv (\"Repurposing_Public_24Q2_Extended_Primary_Data_Matrix.csv\", index_col=0)"
   ]
  },
  {
   "cell_type": "code",
   "execution_count": 3,
   "id": "66bac752-4e6b-4330-a3cf-1af8575934f5",
   "metadata": {},
   "outputs": [
    {
     "name": "stdout",
     "output_type": "stream",
     "text": [
      "(1673, 19193)\n"
     ]
    }
   ],
   "source": [
    "print(cell_lines_pd.shape)"
   ]
  },
  {
   "cell_type": "code",
   "execution_count": 4,
   "id": "c2741218-6fcf-414d-9fb5-d74fe79a622b",
   "metadata": {},
   "outputs": [
    {
     "name": "stdout",
     "output_type": "stream",
     "text": [
      "(6790, 919)\n",
      "2026962\n"
     ]
    }
   ],
   "source": [
    "print(response_pd.shape)\n",
    "print(response_pd.isnull().sum().sum())"
   ]
  },
  {
   "cell_type": "code",
   "execution_count": 5,
   "id": "64b036b6-e564-4040-92cf-e492a06a884e",
   "metadata": {},
   "outputs": [],
   "source": [
    "#Transposing response drugs to rows to posteriously merge to lines dataset\n",
    "response_transposed = response_pd.T"
   ]
  },
  {
   "cell_type": "markdown",
   "id": "4beb4ffe-94da-4e53-b7aa-d984f3e6d5c3",
   "metadata": {},
   "source": [
    "## Filtering both datasets to only have the common ones "
   ]
  },
  {
   "cell_type": "code",
   "execution_count": 7,
   "id": "477567a0-201c-496f-b9e5-5a860dfebcce",
   "metadata": {},
   "outputs": [
    {
     "name": "stdout",
     "output_type": "stream",
     "text": [
      "Index(['BRD:BRD-A00047421-001-01-7', 'BRD:BRD-A00055058-001-01-0',\n",
      "       'BRD:BRD-A00077618-236-07-6', 'BRD:BRD-A00092689-236-04-9',\n",
      "       'BRD:BRD-A00100033-001-08-9', 'BRD:BRD-A00147595-001-01-5',\n",
      "       'BRD:BRD-A00218260-001-03-4', 'BRD:BRD-A00376169-001-01-6',\n",
      "       'BRD:BRD-A00520476-001-07-4', 'BRD:BRD-A00546892-001-02-6',\n",
      "       ...\n",
      "       'BRD:BRD-M92352362-002-02-3', 'BRD:BRD-M92675308-003-07-1',\n",
      "       'BRD:BRD-M93148412-001-02-6', 'BRD:BRD-M97302542-001-03-6',\n",
      "       'BRD:BRD-M98279124-300-01-1', 'BRD:BRD-U08520523-000-01-0',\n",
      "       'BRD:BRD-U25960968-000-01-9', 'BRD:BRD-U45393375-000-01-6',\n",
      "       'BRD:BRD-U48018661-000-01-9', 'BRD:BRD-U51753822-000-01-1'],\n",
      "      dtype='object', length=6790)\n",
      "Index(['ACH-000001', 'ACH-000002', 'ACH-000004', 'ACH-000005', 'ACH-000006'], dtype='object')\n"
     ]
    }
   ],
   "source": [
    "#Resetting indexes \n",
    "print(response_transposed.columns)  # See available column names\n",
    "print(response_transposed.index[:5])  # See if cell lines are already the index"
   ]
  },
  {
   "cell_type": "code",
   "execution_count": 8,
   "id": "ebfc57cf-09c9-405f-9118-662d4e092397",
   "metadata": {
    "scrolled": true
   },
   "outputs": [
    {
     "name": "stdout",
     "output_type": "stream",
     "text": [
      "            TSPAN6 (7105)  TNMD (64102)  DPM1 (8813)  SCYL3 (57147)  \\\n",
      "ACH-001113       4.331992      0.000000     7.364660       2.792855   \n",
      "ACH-001289       4.567424      0.584963     7.106641       2.543496   \n",
      "ACH-001339       3.150560      0.000000     7.379118       2.333424   \n",
      "ACH-001979       4.240314      0.000000     5.681168       2.063503   \n",
      "ACH-002438       4.032101      0.000000     6.674687       2.117695   \n",
      "ACH-001538       5.085340      0.000000     7.154211       2.545968   \n",
      "ACH-000242       6.729417      0.000000     6.537917       2.456806   \n",
      "ACH-000708       4.272770      0.189034     7.023255       2.555816   \n",
      "ACH-000327       3.337711      0.000000     5.927659       1.944858   \n",
      "ACH-000233       0.056584      0.000000     6.094236       3.971773   \n",
      "\n",
      "            C1orf112 (55732)  FGR (2268)  CFH (3075)  FUCA2 (2519)  \\\n",
      "ACH-001113          4.471187    0.028569    1.226509      3.044394   \n",
      "ACH-001289          3.504620    0.000000    0.189034      3.813525   \n",
      "ACH-001339          4.228049    0.056584    1.310340      6.687201   \n",
      "ACH-001979          1.641546    0.000000    7.236301      5.948367   \n",
      "ACH-002438          3.003602    0.000000    2.169925      6.838195   \n",
      "ACH-001538          3.084064    0.000000    5.868390      6.165309   \n",
      "ACH-000242          3.867896    0.799087    7.208478      5.570159   \n",
      "ACH-000708          3.841973    0.000000    0.097611      4.888500   \n",
      "ACH-000327          2.678072    0.014355    3.090853      6.011451   \n",
      "ACH-000233          3.731183    0.028569    6.093602      3.033863   \n",
      "\n",
      "            GCLC (2729)  NFYA (4800)  ...  H3C2 (8358)  H3C3 (8352)  \\\n",
      "ACH-001113     6.500005     4.739848  ...     2.689299     0.189034   \n",
      "ACH-001289     4.221877     3.481557  ...     1.286881     1.049631   \n",
      "ACH-001339     3.682573     3.273516  ...     0.594549     1.097611   \n",
      "ACH-001979     4.596935     2.918386  ...     0.000000     0.000000   \n",
      "ACH-002438     3.253989     4.276497  ...     0.238787     0.378512   \n",
      "ACH-001538     4.489928     3.956986  ...     0.214125     0.632268   \n",
      "ACH-000242     7.127117     4.568032  ...     1.117695     2.358959   \n",
      "ACH-000708     4.926948     3.526069  ...     1.367371     1.480265   \n",
      "ACH-000327     3.642702     2.879706  ...     1.090853     0.956057   \n",
      "ACH-000233     3.422233     4.726286  ...     0.879706     1.244887   \n",
      "\n",
      "            AC098582.1 (8916)  DUS4L-BCAP29 (115253422)  \\\n",
      "ACH-001113           0.201634                  2.130931   \n",
      "ACH-001289           0.321928                  1.464668   \n",
      "ACH-001339           0.831877                  2.946731   \n",
      "ACH-001979           0.847997                  1.887525   \n",
      "ACH-002438           0.584963                  1.748461   \n",
      "ACH-001538           0.298658                  1.641546   \n",
      "ACH-000242           0.084064                  1.910733   \n",
      "ACH-000708           0.321928                  1.891419   \n",
      "ACH-000327           0.286881                  1.327687   \n",
      "ACH-000233           0.641546                  3.157044   \n",
      "\n",
      "            C8orf44-SGK3 (100533105)  ELOA3B (728929)  NPBWR1 (2831)  \\\n",
      "ACH-001113                  0.555816         0.000000       0.275007   \n",
      "ACH-001289                  0.632268         0.000000       0.014355   \n",
      "ACH-001339                  0.475085         0.000000       0.084064   \n",
      "ACH-001979                  0.176323         0.000000       0.000000   \n",
      "ACH-002438                  0.839960         0.000000       0.014355   \n",
      "ACH-001538                  0.443607         0.000000       0.028569   \n",
      "ACH-000242                  0.000000         0.000000       0.464668   \n",
      "ACH-000708                  0.201634         0.000000       0.000000   \n",
      "ACH-000327                  0.000000         0.124328       0.176323   \n",
      "ACH-000233                  0.226509         0.000000       0.000000   \n",
      "\n",
      "            ELOA3D (100506888)  ELOA3 (162699)  CDR1 (1038)  \n",
      "ACH-001113            0.000000        0.000000     0.000000  \n",
      "ACH-001289            0.000000        0.000000     0.000000  \n",
      "ACH-001339            0.000000        0.000000     0.042644  \n",
      "ACH-001979            0.000000        0.000000     0.000000  \n",
      "ACH-002438            0.000000        0.000000     0.042644  \n",
      "ACH-001538            0.000000        0.000000     0.000000  \n",
      "ACH-000242            0.000000        0.000000     0.000000  \n",
      "ACH-000708            0.000000        0.000000     0.000000  \n",
      "ACH-000327            0.000000        0.084064     0.250962  \n",
      "ACH-000233            0.056584        0.000000     0.000000  \n",
      "\n",
      "[10 rows x 19193 columns]\n"
     ]
    }
   ],
   "source": [
    "print(cell_lines_pd.head(10))"
   ]
  },
  {
   "cell_type": "code",
   "execution_count": 9,
   "id": "77e2a1bc-9742-4ba6-9d43-f9bd2ff55bac",
   "metadata": {},
   "outputs": [
    {
     "data": {
      "text/plain": [
       "Index(['ACH-001113', 'ACH-001289', 'ACH-001538', 'ACH-000242', 'ACH-000233',\n",
       "       'ACH-000461', 'ACH-001794', 'ACH-002023', 'ACH-000528', 'ACH-001655',\n",
       "       ...\n",
       "       'ACH-000114', 'ACH-001578', 'ACH-000036', 'ACH-000973', 'ACH-001128',\n",
       "       'ACH-000750', 'ACH-000285', 'ACH-001858', 'ACH-001997', 'ACH-000052'],\n",
       "      dtype='object', length=901)"
      ]
     },
     "execution_count": 9,
     "metadata": {},
     "output_type": "execute_result"
    }
   ],
   "source": [
    "# Checking for common cell lines\n",
    "common_cells = cell_lines_pd.index.intersection(response_transposed.index)\n",
    "common_cells"
   ]
  },
  {
   "cell_type": "code",
   "execution_count": 10,
   "id": "6d0be848-3055-4ab6-8787-e629d9f2bdb2",
   "metadata": {},
   "outputs": [],
   "source": [
    "# Filtering both with common cell lines\n",
    "genes_filtered    = cell_lines_pd.loc[common_cells]\n",
    "response_filtered = response_transposed.loc[common_cells]"
   ]
  },
  {
   "cell_type": "code",
   "execution_count": 11,
   "id": "70ca40e5-f863-4bd7-8b6f-2ddd36c1daf2",
   "metadata": {},
   "outputs": [
    {
     "name": "stdout",
     "output_type": "stream",
     "text": [
      "(901, 19193)\n"
     ]
    }
   ],
   "source": [
    "print(genes_filtered .shape)"
   ]
  },
  {
   "cell_type": "code",
   "execution_count": 12,
   "id": "6347ad6e-7ffb-42ad-92d3-2933931f86fa",
   "metadata": {},
   "outputs": [
    {
     "name": "stdout",
     "output_type": "stream",
     "text": [
      "(901, 6790)\n"
     ]
    }
   ],
   "source": [
    "print(response_filtered.shape)"
   ]
  },
  {
   "cell_type": "markdown",
   "id": "c3cec06e-e357-405f-9066-2039c3f64c98",
   "metadata": {},
   "source": [
    "### Data exploration "
   ]
  },
  {
   "cell_type": "code",
   "execution_count": 14,
   "id": "13bee7bb-3f2a-4c99-bc42-3ca77af19227",
   "metadata": {},
   "outputs": [
    {
     "name": "stdout",
     "output_type": "stream",
     "text": [
      "0\n"
     ]
    }
   ],
   "source": [
    "# Checking for duplicate values \n",
    "print(genes_filtered.index.duplicated().sum())  "
   ]
  },
  {
   "cell_type": "code",
   "execution_count": 15,
   "id": "85a45e4d-4ebc-4722-b877-121a63a5f5db",
   "metadata": {},
   "outputs": [
    {
     "name": "stdout",
     "output_type": "stream",
     "text": [
      "0\n"
     ]
    }
   ],
   "source": [
    "print(response_filtered.index.duplicated().sum())  "
   ]
  },
  {
   "cell_type": "code",
   "execution_count": 16,
   "id": "80bb788c-d542-426b-ba0d-5c384b7617cb",
   "metadata": {},
   "outputs": [
    {
     "name": "stdout",
     "output_type": "stream",
     "text": [
      "0\n",
      "1967792\n"
     ]
    }
   ],
   "source": [
    "# Checking for empty values\n",
    "print(genes_filtered.isnull().sum().sum())\n",
    "print(response_filtered.isnull().sum().sum())"
   ]
  },
  {
   "cell_type": "markdown",
   "id": "ed0ca94f-59e8-4940-b28e-1254e636985b",
   "metadata": {},
   "source": [
    "## Melting data to achieve long format "
   ]
  },
  {
   "cell_type": "code",
   "execution_count": 18,
   "id": "15b67043-ab16-4296-abb9-310b386241aa",
   "metadata": {},
   "outputs": [],
   "source": [
    "# Melt the DataFrame\n",
    "# We reset the index to turn 'cell_line' from an index into a column\n",
    "efficacy_long = response_filtered.reset_index().melt(\n",
    "    id_vars='index',         # Column to keep as is (our cell lines)\n",
    "    var_name='drug',         # New column for what were the column headers (drugs)\n",
    "    value_name='efficacy'    # New column for the values\n",
    ")\n",
    "efficacy_long.rename(columns={'index': 'cell_line'}, inplace=True)"
   ]
  },
  {
   "cell_type": "code",
   "execution_count": 19,
   "id": "767c22d9-2772-440f-9bfa-8672b9e997cd",
   "metadata": {
    "scrolled": true
   },
   "outputs": [
    {
     "name": "stdout",
     "output_type": "stream",
     "text": [
      "Melted Efficacy Data (before dropping NaNs):\n",
      "          cell_line                        drug  efficacy\n",
      "0        ACH-001113  BRD:BRD-A00047421-001-01-7 -2.860765\n",
      "1        ACH-001289  BRD:BRD-A00047421-001-01-7  0.163156\n",
      "2        ACH-001538  BRD:BRD-A00047421-001-01-7 -2.698254\n",
      "3        ACH-000242  BRD:BRD-A00047421-001-01-7 -0.333245\n",
      "4        ACH-000233  BRD:BRD-A00047421-001-01-7 -3.231683\n",
      "...             ...                         ...       ...\n",
      "6117785  ACH-000750  BRD:BRD-U51753822-000-01-1 -0.190344\n",
      "6117786  ACH-000285  BRD:BRD-U51753822-000-01-1       NaN\n",
      "6117787  ACH-001858  BRD:BRD-U51753822-000-01-1       NaN\n",
      "6117788  ACH-001997  BRD:BRD-U51753822-000-01-1       NaN\n",
      "6117789  ACH-000052  BRD:BRD-U51753822-000-01-1  0.035084\n",
      "\n",
      "[6117790 rows x 3 columns]\n"
     ]
    }
   ],
   "source": [
    "print(\"Melted Efficacy Data (before dropping NaNs):\")\n",
    "print(efficacy_long)"
   ]
  },
  {
   "cell_type": "code",
   "execution_count": 20,
   "id": "d3de0036-fd3d-4d4d-a4b7-c1eedbb0ea2e",
   "metadata": {
    "scrolled": true
   },
   "outputs": [],
   "source": [
    "# Drop the rows where efficacy was not measured (the NaNs)\n",
    "efficacy_final = efficacy_long.dropna(subset=['efficacy'])"
   ]
  },
  {
   "cell_type": "code",
   "execution_count": 21,
   "id": "a9939a89-5af5-4565-82be-e00da9fb3142",
   "metadata": {
    "scrolled": true
   },
   "outputs": [
    {
     "name": "stdout",
     "output_type": "stream",
     "text": [
      "\n",
      "Final Tidy Efficacy Data (NaNs removed):\n",
      "          cell_line                        drug  efficacy\n",
      "0        ACH-001113  BRD:BRD-A00047421-001-01-7 -2.860765\n",
      "1        ACH-001289  BRD:BRD-A00047421-001-01-7  0.163156\n",
      "2        ACH-001538  BRD:BRD-A00047421-001-01-7 -2.698254\n",
      "3        ACH-000242  BRD:BRD-A00047421-001-01-7 -0.333245\n",
      "4        ACH-000233  BRD:BRD-A00047421-001-01-7 -3.231683\n",
      "...             ...                         ...       ...\n",
      "6117780  ACH-000114  BRD:BRD-U51753822-000-01-1  0.652678\n",
      "6117783  ACH-000973  BRD:BRD-U51753822-000-01-1 -0.618262\n",
      "6117784  ACH-001128  BRD:BRD-U51753822-000-01-1 -0.190665\n",
      "6117785  ACH-000750  BRD:BRD-U51753822-000-01-1 -0.190344\n",
      "6117789  ACH-000052  BRD:BRD-U51753822-000-01-1  0.035084\n",
      "\n",
      "[4149998 rows x 3 columns]\n"
     ]
    }
   ],
   "source": [
    "print(\"\\nFinal Tidy Efficacy Data (NaNs removed):\")\n",
    "print(efficacy_final)"
   ]
  },
  {
   "cell_type": "code",
   "execution_count": 44,
   "id": "428a0536-5f75-4f9c-b34f-4485cbbfa9cf",
   "metadata": {},
   "outputs": [],
   "source": [
    "genes_filtered_reset = genes_filtered.reset_index()  # index → column\n",
    "genes_filtered_reset = genes_filtered_reset.rename(columns={'index': 'cell_line'})"
   ]
  },
  {
   "cell_type": "markdown",
   "id": "34c0362c-53cb-4a98-8158-be11a74d85f5",
   "metadata": {},
   "source": [
    "### Reducing dimensionality of genes data (PCA)"
   ]
  },
  {
   "cell_type": "code",
   "execution_count": 47,
   "id": "9797f07d-ac90-4ee2-aa8c-476054cb03bc",
   "metadata": {},
   "outputs": [],
   "source": [
    "genes_df = genes_filtered_reset.set_index('cell_line')"
   ]
  },
  {
   "cell_type": "code",
   "execution_count": 49,
   "id": "b1616f79-1ce3-4cfe-a533-9d1fceab6e36",
   "metadata": {},
   "outputs": [],
   "source": [
    "# Scalling data before PCA\n",
    "from sklearn.decomposition import PCA\n",
    "from sklearn.preprocessing import StandardScaler\n",
    "\n",
    "scaler = StandardScaler()\n",
    "genes_scaled = scaler.fit_transform(genes_df)"
   ]
  },
  {
   "cell_type": "code",
   "execution_count": 50,
   "id": "8552d4da-0499-44fc-ae98-dab344d9d941",
   "metadata": {},
   "outputs": [],
   "source": [
    "# Back to dataframe \n",
    "\n",
    "genes_scaled_df = pd.DataFrame(\n",
    "    genes_scaled,\n",
    "    index=genes_df.index,             # re-attach cell line names\n",
    "    columns=genes_df.columns          # keep gene names\n",
    ")"
   ]
  },
  {
   "cell_type": "code",
   "execution_count": 51,
   "id": "2d8d3320-9fe6-428e-9a21-6df9e26ea323",
   "metadata": {},
   "outputs": [],
   "source": [
    "# Keeping components that together explain 95% of the variation\n",
    "pca = PCA(n_components=0.95)  \n",
    "genes_pca = pca.fit_transform(genes_scaled_df)"
   ]
  },
  {
   "cell_type": "code",
   "execution_count": 52,
   "id": "f6ed2696-a112-4d0c-aed0-ab0ebffe2d77",
   "metadata": {},
   "outputs": [],
   "source": [
    "# Back to DF\n",
    "genes_pca_df = pd.DataFrame(\n",
    "    genes_pca,\n",
    "    index=genes_scaled_df.index,                    # cell line names\n",
    "    columns=[f'PC{i+1}' for i in range(genes_pca.shape[1])]  # PC1, PC2, ..., PCn\n",
    ")"
   ]
  },
  {
   "cell_type": "code",
   "execution_count": 53,
   "id": "4868ac06-eee4-4c44-b13b-7dd712b31ee4",
   "metadata": {},
   "outputs": [
    {
     "data": {
      "image/png": "[encoded data removed]",
      "text/plain": [
       "<Figure size 640x480 with 1 Axes>"
      ]
     },
     "metadata": {},
     "output_type": "display_data"
    }
   ],
   "source": [
    "# PCA variance explanation \n",
    "import matplotlib.pyplot as plt\n",
    "\n",
    "explained_var = pca.explained_variance_ratio_\n",
    "\n",
    "plt.plot(range(1, len(explained_var) + 1), explained_var.cumsum(), marker='o')\n",
    "plt.xlabel(\"Number of Principal Components\")\n",
    "plt.ylabel(\"Cumulative Explained Variance\")\n",
    "plt.title(\"Explained Variance by PCA Components\")\n",
    "plt.grid(True)\n",
    "plt.show()"
   ]
  },
  {
   "cell_type": "code",
   "execution_count": 56,
   "id": "1aab9e43-e3b5-4c70-a61e-3d239a26abc2",
   "metadata": {},
   "outputs": [],
   "source": [
    "# Merging PCA component to efficacy data \n",
    "model_df = pd.merge(\n",
    "    efficacy_final, \n",
    "    genes_pca_df,     \n",
    "    on='cell_line'\n",
    ")"
   ]
  },
  {
   "cell_type": "code",
   "execution_count": 57,
   "id": "8c78c2b8-ec56-4637-b287-408d14cbccab",
   "metadata": {},
   "outputs": [
    {
     "name": "stdout",
     "output_type": "stream",
     "text": [
      "\n",
      "Successfully created the final modeling DataFrame:\n",
      "    cell_line                        drug  efficacy        PC1        PC2  \\\n",
      "0  ACH-001113  BRD:BRD-A00047421-001-01-7 -2.860765  23.732197  14.643969   \n",
      "1  ACH-001289  BRD:BRD-A00047421-001-01-7  0.163156  39.547212  -4.682764   \n",
      "2  ACH-001538  BRD:BRD-A00047421-001-01-7 -2.698254 -37.891734  22.109658   \n",
      "3  ACH-000242  BRD:BRD-A00047421-001-01-7 -0.333245  -3.483760   6.597288   \n",
      "4  ACH-000233  BRD:BRD-A00047421-001-01-7 -3.231683   9.204201 -29.477180   \n",
      "\n",
      "         PC3        PC4        PC5        PC6        PC7  ...     PC632  \\\n",
      "0   2.034826 -13.433906  13.635756 -36.908951   2.770349  ...  0.803681   \n",
      "1 -38.368234 -39.979698  33.165196 -31.837503  26.013096  ...  0.148893   \n",
      "2  10.967585  10.973287  30.161686 -49.958640   8.577335  ... -1.926645   \n",
      "3  36.734168   5.106804  18.967784   4.133437  -6.435150  ... -0.741849   \n",
      "4   6.017780  33.043529 -32.859092 -20.301295   6.804604  ...  0.364864   \n",
      "\n",
      "      PC633     PC634     PC635     PC636     PC637     PC638     PC639  \\\n",
      "0  3.304602  1.063129  0.191708  1.406597 -3.202164 -1.281083 -3.740342   \n",
      "1 -0.221783  0.247627  0.543054  0.024747 -0.584707 -0.104502 -0.545388   \n",
      "2 -3.211859 -1.222880 -1.220043 -0.737984  2.486000 -1.305209  3.507637   \n",
      "3  0.761647  1.942839  0.786827 -1.245773 -0.759474 -0.739534  0.843474   \n",
      "4 -0.611966  0.355305  0.428413 -0.882105  1.857829  0.734405  1.192992   \n",
      "\n",
      "      PC640     PC641  \n",
      "0  3.028998 -2.439262  \n",
      "1  0.338537 -1.819979  \n",
      "2  2.628112 -2.835544  \n",
      "3 -0.229505  0.645524  \n",
      "4  0.752255 -2.173354  \n",
      "\n",
      "[5 rows x 644 columns]\n",
      "Shape of the final DataFrame: (4149998, 644)\n"
     ]
    }
   ],
   "source": [
    "print(\"\\nSuccessfully created the final modeling DataFrame:\")\n",
    "print(model_df.head())\n",
    "print(f\"Shape of the final DataFrame: {model_df.shape}\")"
   ]
  },
  {
   "cell_type": "markdown",
   "id": "3f90e278-6d0d-4111-9a2e-fe5a4cab934a",
   "metadata": {},
   "source": [
    "## 1_Regression Model "
   ]
  },
  {
   "cell_type": "code",
   "execution_count": 59,
   "id": "70cbecf7-a74f-4d63-b5e4-845dd8ee0d17",
   "metadata": {},
   "outputs": [],
   "source": [
    "# Setting target drug for the model , BRD:BRD-A00047421-001-01-7, for this case\n",
    "target_drug = \"BRD:BRD-A00047421-001-01-7\""
   ]
  },
  {
   "cell_type": "code",
   "execution_count": 60,
   "id": "f4d9c532-038a-417d-b9ac-c03492a58538",
   "metadata": {},
   "outputs": [],
   "source": [
    "# subseting for target drug \n",
    "drug_df = model_df[model_df['drug'] == target_drug].copy()"
   ]
  },
  {
   "cell_type": "code",
   "execution_count": 61,
   "id": "886f9df3-5527-4238-b7d3-c725180c70a0",
   "metadata": {},
   "outputs": [],
   "source": [
    "# Spliting X and y , features and target \n",
    "X = drug_df.drop(columns=['cell_line', 'drug', 'efficacy'])\n",
    "\n",
    "# Targe, drug efficacy for this drug\n",
    "y = drug_df['efficacy']"
   ]
  },
  {
   "cell_type": "code",
   "execution_count": 62,
   "id": "32f136e5-2cdf-4170-b22c-9182f87179f7",
   "metadata": {},
   "outputs": [],
   "source": [
    "from sklearn.model_selection import train_test_split\n",
    "\n",
    "X_train, X_test, y_train, y_test = train_test_split(\n",
    "    X, y, test_size=0.2, random_state=42\n",
    ")"
   ]
  },
  {
   "cell_type": "code",
   "execution_count": 63,
   "id": "ff9fc3e2-91f6-483a-8aa0-001f8efee20f",
   "metadata": {},
   "outputs": [
    {
     "data": {
      "text/html": [
       "<style>#sk-container-id-1 {\n",
       "  /* Definition of color scheme common for light and dark mode */\n",
       "  --sklearn-color-text: #000;\n",
       "  --sklearn-color-text-muted: #666;\n",
       "  --sklearn-color-line: gray;\n",
       "  /* Definition of color scheme for unfitted estimators */\n",
       "  --sklearn-color-unfitted-level-0: #fff5e6;\n",
       "  --sklearn-color-unfitted-level-1: #f6e4d2;\n",
       "  --sklearn-color-unfitted-level-2: #ffe0b3;\n",
       "  --sklearn-color-unfitted-level-3: chocolate;\n",
       "  /* Definition of color scheme for fitted estimators */\n",
       "  --sklearn-color-fitted-level-0: #f0f8ff;\n",
       "  --sklearn-color-fitted-level-1: #d4ebff;\n",
       "  --sklearn-color-fitted-level-2: #b3dbfd;\n",
       "  --sklearn-color-fitted-level-3: cornflowerblue;\n",
       "\n",
       "  /* Specific color for light theme */\n",
       "  --sklearn-color-text-on-default-background: var(--sg-text-color, var(--theme-code-foreground, var(--jp-content-font-color1, black)));\n",
       "  --sklearn-color-background: var(--sg-background-color, var(--theme-background, var(--jp-layout-color0, white)));\n",
       "  --sklearn-color-border-box: var(--sg-text-color, var(--theme-code-foreground, var(--jp-content-font-color1, black)));\n",
       "  --sklearn-color-icon: #696969;\n",
       "\n",
       "  @media (prefers-color-scheme: dark) {\n",
       "    /* Redefinition of color scheme for dark theme */\n",
       "    --sklearn-color-text-on-default-background: var(--sg-text-color, var(--theme-code-foreground, var(--jp-content-font-color1, white)));\n",
       "    --sklearn-color-background: var(--sg-background-color, var(--theme-background, var(--jp-layout-color0, #111)));\n",
       "    --sklearn-color-border-box: var(--sg-text-color, var(--theme-code-foreground, var(--jp-content-font-color1, white)));\n",
       "    --sklearn-color-icon: #878787;\n",
       "  }\n",
       "}\n",
       "\n",
       "#sk-container-id-1 {\n",
       "  color: var(--sklearn-color-text);\n",
       "}\n",
       "\n",
       "#sk-container-id-1 pre {\n",
       "  padding: 0;\n",
       "}\n",
       "\n",
       "#sk-container-id-1 input.sk-hidden--visually {\n",
       "  border: 0;\n",
       "  clip: rect(1px 1px 1px 1px);\n",
       "  clip: rect(1px, 1px, 1px, 1px);\n",
       "  height: 1px;\n",
       "  margin: -1px;\n",
       "  overflow: hidden;\n",
       "  padding: 0;\n",
       "  position: absolute;\n",
       "  width: 1px;\n",
       "}\n",
       "\n",
       "#sk-container-id-1 div.sk-dashed-wrapped {\n",
       "  border: 1px dashed var(--sklearn-color-line);\n",
       "  margin: 0 0.4em 0.5em 0.4em;\n",
       "  box-sizing: border-box;\n",
       "  padding-bottom: 0.4em;\n",
       "  background-color: var(--sklearn-color-background);\n",
       "}\n",
       "\n",
       "#sk-container-id-1 div.sk-container {\n",
       "  /* jupyter's `normalize.less` sets `[hidden] { display: none; }`\n",
       "     but bootstrap.min.css set `[hidden] { display: none !important; }`\n",
       "     so we also need the `!important` here to be able to override the\n",
       "     default hidden behavior on the sphinx rendered scikit-learn.org.\n",
       "     See: https://github.com/scikit-learn/scikit-learn/issues/21755 */\n",
       "  display: inline-block !important;\n",
       "  position: relative;\n",
       "}\n",
       "\n",
       "#sk-container-id-1 div.sk-text-repr-fallback {\n",
       "  display: none;\n",
       "}\n",
       "\n",
       "div.sk-parallel-item,\n",
       "div.sk-serial,\n",
       "div.sk-item {\n",
       "  /* draw centered vertical line to link estimators */\n",
       "  background-image: linear-gradient(var(--sklearn-color-text-on-default-background), var(--sklearn-color-text-on-default-background));\n",
       "  background-size: 2px 100%;\n",
       "  background-repeat: no-repeat;\n",
       "  background-position: center center;\n",
       "}\n",
       "\n",
       "/* Parallel-specific style estimator block */\n",
       "\n",
       "#sk-container-id-1 div.sk-parallel-item::after {\n",
       "  content: \"\";\n",
       "  width: 100%;\n",
       "  border-bottom: 2px solid var(--sklearn-color-text-on-default-background);\n",
       "  flex-grow: 1;\n",
       "}\n",
       "\n",
       "#sk-container-id-1 div.sk-parallel {\n",
       "  display: flex;\n",
       "  align-items: stretch;\n",
       "  justify-content: center;\n",
       "  background-color: var(--sklearn-color-background);\n",
       "  position: relative;\n",
       "}\n",
       "\n",
       "#sk-container-id-1 div.sk-parallel-item {\n",
       "  display: flex;\n",
       "  flex-direction: column;\n",
       "}\n",
       "\n",
       "#sk-container-id-1 div.sk-parallel-item:first-child::after {\n",
       "  align-self: flex-end;\n",
       "  width: 50%;\n",
       "}\n",
       "\n",
       "#sk-container-id-1 div.sk-parallel-item:last-child::after {\n",
       "  align-self: flex-start;\n",
       "  width: 50%;\n",
       "}\n",
       "\n",
       "#sk-container-id-1 div.sk-parallel-item:only-child::after {\n",
       "  width: 0;\n",
       "}\n",
       "\n",
       "/* Serial-specific style estimator block */\n",
       "\n",
       "#sk-container-id-1 div.sk-serial {\n",
       "  display: flex;\n",
       "  flex-direction: column;\n",
       "  align-items: center;\n",
       "  background-color: var(--sklearn-color-background);\n",
       "  padding-right: 1em;\n",
       "  padding-left: 1em;\n",
       "}\n",
       "\n",
       "\n",
       "/* Toggleable style: style used for estimator/Pipeline/ColumnTransformer box that is\n",
       "clickable and can be expanded/collapsed.\n",
       "- Pipeline and ColumnTransformer use this feature and define the default style\n",
       "- Estimators will overwrite some part of the style using the `sk-estimator` class\n",
       "*/\n",
       "\n",
       "/* Pipeline and ColumnTransformer style (default) */\n",
       "\n",
       "#sk-container-id-1 div.sk-toggleable {\n",
       "  /* Default theme specific background. It is overwritten whether we have a\n",
       "  specific estimator or a Pipeline/ColumnTransformer */\n",
       "  background-color: var(--sklearn-color-background);\n",
       "}\n",
       "\n",
       "/* Toggleable label */\n",
       "#sk-container-id-1 label.sk-toggleable__label {\n",
       "  cursor: pointer;\n",
       "  display: flex;\n",
       "  width: 100%;\n",
       "  margin-bottom: 0;\n",
       "  padding: 0.5em;\n",
       "  box-sizing: border-box;\n",
       "  text-align: center;\n",
       "  align-items: start;\n",
       "  justify-content: space-between;\n",
       "  gap: 0.5em;\n",
       "}\n",
       "\n",
       "#sk-container-id-1 label.sk-toggleable__label .caption {\n",
       "  font-size: 0.6rem;\n",
       "  font-weight: lighter;\n",
       "  color: var(--sklearn-color-text-muted);\n",
       "}\n",
       "\n",
       "#sk-container-id-1 label.sk-toggleable__label-arrow:before {\n",
       "  /* Arrow on the left of the label */\n",
       "  content: \"▸\";\n",
       "  float: left;\n",
       "  margin-right: 0.25em;\n",
       "  color: var(--sklearn-color-icon);\n",
       "}\n",
       "\n",
       "#sk-container-id-1 label.sk-toggleable__label-arrow:hover:before {\n",
       "  color: var(--sklearn-color-text);\n",
       "}\n",
       "\n",
       "/* Toggleable content - dropdown */\n",
       "\n",
       "#sk-container-id-1 div.sk-toggleable__content {\n",
       "  max-height: 0;\n",
       "  max-width: 0;\n",
       "  overflow: hidden;\n",
       "  text-align: left;\n",
       "  /* unfitted */\n",
       "  background-color: var(--sklearn-color-unfitted-level-0);\n",
       "}\n",
       "\n",
       "#sk-container-id-1 div.sk-toggleable__content.fitted {\n",
       "  /* fitted */\n",
       "  background-color: var(--sklearn-color-fitted-level-0);\n",
       "}\n",
       "\n",
       "#sk-container-id-1 div.sk-toggleable__content pre {\n",
       "  margin: 0.2em;\n",
       "  border-radius: 0.25em;\n",
       "  color: var(--sklearn-color-text);\n",
       "  /* unfitted */\n",
       "  background-color: var(--sklearn-color-unfitted-level-0);\n",
       "}\n",
       "\n",
       "#sk-container-id-1 div.sk-toggleable__content.fitted pre {\n",
       "  /* unfitted */\n",
       "  background-color: var(--sklearn-color-fitted-level-0);\n",
       "}\n",
       "\n",
       "#sk-container-id-1 input.sk-toggleable__control:checked~div.sk-toggleable__content {\n",
       "  /* Expand drop-down */\n",
       "  max-height: 200px;\n",
       "  max-width: 100%;\n",
       "  overflow: auto;\n",
       "}\n",
       "\n",
       "#sk-container-id-1 input.sk-toggleable__control:checked~label.sk-toggleable__label-arrow:before {\n",
       "  content: \"▾\";\n",
       "}\n",
       "\n",
       "/* Pipeline/ColumnTransformer-specific style */\n",
       "\n",
       "#sk-container-id-1 div.sk-label input.sk-toggleable__control:checked~label.sk-toggleable__label {\n",
       "  color: var(--sklearn-color-text);\n",
       "  background-color: var(--sklearn-color-unfitted-level-2);\n",
       "}\n",
       "\n",
       "#sk-container-id-1 div.sk-label.fitted input.sk-toggleable__control:checked~label.sk-toggleable__label {\n",
       "  background-color: var(--sklearn-color-fitted-level-2);\n",
       "}\n",
       "\n",
       "/* Estimator-specific style */\n",
       "\n",
       "/* Colorize estimator box */\n",
       "#sk-container-id-1 div.sk-estimator input.sk-toggleable__control:checked~label.sk-toggleable__label {\n",
       "  /* unfitted */\n",
       "  background-color: var(--sklearn-color-unfitted-level-2);\n",
       "}\n",
       "\n",
       "#sk-container-id-1 div.sk-estimator.fitted input.sk-toggleable__control:checked~label.sk-toggleable__label {\n",
       "  /* fitted */\n",
       "  background-color: var(--sklearn-color-fitted-level-2);\n",
       "}\n",
       "\n",
       "#sk-container-id-1 div.sk-label label.sk-toggleable__label,\n",
       "#sk-container-id-1 div.sk-label label {\n",
       "  /* The background is the default theme color */\n",
       "  color: var(--sklearn-color-text-on-default-background);\n",
       "}\n",
       "\n",
       "/* On hover, darken the color of the background */\n",
       "#sk-container-id-1 div.sk-label:hover label.sk-toggleable__label {\n",
       "  color: var(--sklearn-color-text);\n",
       "  background-color: var(--sklearn-color-unfitted-level-2);\n",
       "}\n",
       "\n",
       "/* Label box, darken color on hover, fitted */\n",
       "#sk-container-id-1 div.sk-label.fitted:hover label.sk-toggleable__label.fitted {\n",
       "  color: var(--sklearn-color-text);\n",
       "  background-color: var(--sklearn-color-fitted-level-2);\n",
       "}\n",
       "\n",
       "/* Estimator label */\n",
       "\n",
       "#sk-container-id-1 div.sk-label label {\n",
       "  font-family: monospace;\n",
       "  font-weight: bold;\n",
       "  display: inline-block;\n",
       "  line-height: 1.2em;\n",
       "}\n",
       "\n",
       "#sk-container-id-1 div.sk-label-container {\n",
       "  text-align: center;\n",
       "}\n",
       "\n",
       "/* Estimator-specific */\n",
       "#sk-container-id-1 div.sk-estimator {\n",
       "  font-family: monospace;\n",
       "  border: 1px dotted var(--sklearn-color-border-box);\n",
       "  border-radius: 0.25em;\n",
       "  box-sizing: border-box;\n",
       "  margin-bottom: 0.5em;\n",
       "  /* unfitted */\n",
       "  background-color: var(--sklearn-color-unfitted-level-0);\n",
       "}\n",
       "\n",
       "#sk-container-id-1 div.sk-estimator.fitted {\n",
       "  /* fitted */\n",
       "  background-color: var(--sklearn-color-fitted-level-0);\n",
       "}\n",
       "\n",
       "/* on hover */\n",
       "#sk-container-id-1 div.sk-estimator:hover {\n",
       "  /* unfitted */\n",
       "  background-color: var(--sklearn-color-unfitted-level-2);\n",
       "}\n",
       "\n",
       "#sk-container-id-1 div.sk-estimator.fitted:hover {\n",
       "  /* fitted */\n",
       "  background-color: var(--sklearn-color-fitted-level-2);\n",
       "}\n",
       "\n",
       "/* Specification for estimator info (e.g. \"i\" and \"?\") */\n",
       "\n",
       "/* Common style for \"i\" and \"?\" */\n",
       "\n",
       ".sk-estimator-doc-link,\n",
       "a:link.sk-estimator-doc-link,\n",
       "a:visited.sk-estimator-doc-link {\n",
       "  float: right;\n",
       "  font-size: smaller;\n",
       "  line-height: 1em;\n",
       "  font-family: monospace;\n",
       "  background-color: var(--sklearn-color-background);\n",
       "  border-radius: 1em;\n",
       "  height: 1em;\n",
       "  width: 1em;\n",
       "  text-decoration: none !important;\n",
       "  margin-left: 0.5em;\n",
       "  text-align: center;\n",
       "  /* unfitted */\n",
       "  border: var(--sklearn-color-unfitted-level-1) 1pt solid;\n",
       "  color: var(--sklearn-color-unfitted-level-1);\n",
       "}\n",
       "\n",
       ".sk-estimator-doc-link.fitted,\n",
       "a:link.sk-estimator-doc-link.fitted,\n",
       "a:visited.sk-estimator-doc-link.fitted {\n",
       "  /* fitted */\n",
       "  border: var(--sklearn-color-fitted-level-1) 1pt solid;\n",
       "  color: var(--sklearn-color-fitted-level-1);\n",
       "}\n",
       "\n",
       "/* On hover */\n",
       "div.sk-estimator:hover .sk-estimator-doc-link:hover,\n",
       ".sk-estimator-doc-link:hover,\n",
       "div.sk-label-container:hover .sk-estimator-doc-link:hover,\n",
       ".sk-estimator-doc-link:hover {\n",
       "  /* unfitted */\n",
       "  background-color: var(--sklearn-color-unfitted-level-3);\n",
       "  color: var(--sklearn-color-background);\n",
       "  text-decoration: none;\n",
       "}\n",
       "\n",
       "div.sk-estimator.fitted:hover .sk-estimator-doc-link.fitted:hover,\n",
       ".sk-estimator-doc-link.fitted:hover,\n",
       "div.sk-label-container:hover .sk-estimator-doc-link.fitted:hover,\n",
       ".sk-estimator-doc-link.fitted:hover {\n",
       "  /* fitted */\n",
       "  background-color: var(--sklearn-color-fitted-level-3);\n",
       "  color: var(--sklearn-color-background);\n",
       "  text-decoration: none;\n",
       "}\n",
       "\n",
       "/* Span, style for the box shown on hovering the info icon */\n",
       ".sk-estimator-doc-link span {\n",
       "  display: none;\n",
       "  z-index: 9999;\n",
       "  position: relative;\n",
       "  font-weight: normal;\n",
       "  right: .2ex;\n",
       "  padding: .5ex;\n",
       "  margin: .5ex;\n",
       "  width: min-content;\n",
       "  min-width: 20ex;\n",
       "  max-width: 50ex;\n",
       "  color: var(--sklearn-color-text);\n",
       "  box-shadow: 2pt 2pt 4pt #999;\n",
       "  /* unfitted */\n",
       "  background: var(--sklearn-color-unfitted-level-0);\n",
       "  border: .5pt solid var(--sklearn-color-unfitted-level-3);\n",
       "}\n",
       "\n",
       ".sk-estimator-doc-link.fitted span {\n",
       "  /* fitted */\n",
       "  background: var(--sklearn-color-fitted-level-0);\n",
       "  border: var(--sklearn-color-fitted-level-3);\n",
       "}\n",
       "\n",
       ".sk-estimator-doc-link:hover span {\n",
       "  display: block;\n",
       "}\n",
       "\n",
       "/* \"?\"-specific style due to the `<a>` HTML tag */\n",
       "\n",
       "#sk-container-id-1 a.estimator_doc_link {\n",
       "  float: right;\n",
       "  font-size: 1rem;\n",
       "  line-height: 1em;\n",
       "  font-family: monospace;\n",
       "  background-color: var(--sklearn-color-background);\n",
       "  border-radius: 1rem;\n",
       "  height: 1rem;\n",
       "  width: 1rem;\n",
       "  text-decoration: none;\n",
       "  /* unfitted */\n",
       "  color: var(--sklearn-color-unfitted-level-1);\n",
       "  border: var(--sklearn-color-unfitted-level-1) 1pt solid;\n",
       "}\n",
       "\n",
       "#sk-container-id-1 a.estimator_doc_link.fitted {\n",
       "  /* fitted */\n",
       "  border: var(--sklearn-color-fitted-level-1) 1pt solid;\n",
       "  color: var(--sklearn-color-fitted-level-1);\n",
       "}\n",
       "\n",
       "/* On hover */\n",
       "#sk-container-id-1 a.estimator_doc_link:hover {\n",
       "  /* unfitted */\n",
       "  background-color: var(--sklearn-color-unfitted-level-3);\n",
       "  color: var(--sklearn-color-background);\n",
       "  text-decoration: none;\n",
       "}\n",
       "\n",
       "#sk-container-id-1 a.estimator_doc_link.fitted:hover {\n",
       "  /* fitted */\n",
       "  background-color: var(--sklearn-color-fitted-level-3);\n",
       "}\n",
       "</style><div id=\"sk-container-id-1\" class=\"sk-top-container\"><div class=\"sk-text-repr-fallback\"><pre>LinearRegression()</pre><b>In a Jupyter environment, please rerun this cell to show the HTML representation or trust the notebook. <br />On GitHub, the HTML representation is unable to render, please try loading this page with nbviewer.org.</b></div><div class=\"sk-container\" hidden><div class=\"sk-item\"><div class=\"sk-estimator fitted sk-toggleable\"><input class=\"sk-toggleable__control sk-hidden--visually\" id=\"sk-estimator-id-1\" type=\"checkbox\" checked><label for=\"sk-estimator-id-1\" class=\"sk-toggleable__label fitted sk-toggleable__label-arrow\"><div><div>LinearRegression</div></div><div><a class=\"sk-estimator-doc-link fitted\" rel=\"noreferrer\" target=\"_blank\" href=\"https://scikit-learn.org/1.6/modules/generated/sklearn.linear_model.LinearRegression.html\">?<span>Documentation for LinearRegression</span></a><span class=\"sk-estimator-doc-link fitted\">i<span>Fitted</span></span></div></label><div class=\"sk-toggleable__content fitted\"><pre>LinearRegression()</pre></div> </div></div></div></div>"
      ],
      "text/plain": [
       "LinearRegression()"
      ]
     },
     "execution_count": 63,
     "metadata": {},
     "output_type": "execute_result"
    }
   ],
   "source": [
    "# Baseline linear Regression \n",
    "from sklearn.linear_model import LinearRegression\n",
    "from sklearn.metrics import r2_score, mean_squared_error\n",
    "\n",
    "lr = LinearRegression()\n",
    "lr.fit(X_train, y_train)"
   ]
  },
  {
   "cell_type": "code",
   "execution_count": 64,
   "id": "159cc452-5ab4-4c64-a5ab-07610a5b64b6",
   "metadata": {},
   "outputs": [],
   "source": [
    "y_pred = lr.predict(X_test)"
   ]
  },
  {
   "cell_type": "code",
   "execution_count": 66,
   "id": "ab4f43ce-5abc-4021-8538-5656dd65c36a",
   "metadata": {},
   "outputs": [
    {
     "name": "stdout",
     "output_type": "stream",
     "text": [
      "Linear Regression R²: -49.8152\n",
      "Linear Regression RMSE: 10.3674\n"
     ]
    }
   ],
   "source": [
    "# Evaluation \n",
    "# Evaluate\n",
    "r2 = r2_score(y_test, y_pred)\n",
    "mse = mean_squared_error(y_test, y_pred)\n",
    "rmse = np.sqrt(mse)\n",
    "\n",
    "print(f\"Linear Regression R²: {r2:.4f}\")\n",
    "print(f\"Linear Regression RMSE: {rmse:.4f}\")"
   ]
  },
  {
   "cell_type": "code",
   "execution_count": 68,
   "id": "ef82eb0d-fff7-45c5-a858-167c26466f83",
   "metadata": {},
   "outputs": [
    {
     "data": {
      "image/png": "[encoded data removed]",
      "text/plain": [
       "<Figure size 600x600 with 1 Axes>"
      ]
     },
     "metadata": {},
     "output_type": "display_data"
    }
   ],
   "source": [
    "import matplotlib.pyplot as plt\n",
    "import seaborn as sns\n",
    "\n",
    "plt.figure(figsize=(6, 6))\n",
    "sns.scatterplot(x=y_test, y=y_pred, alpha=0.6)\n",
    "plt.plot([y_test.min(), y_test.max()], [y_test.min(), y_test.max()], '--r', label='Perfect prediction')\n",
    "plt.xlabel(\"Actual Efficacy\")\n",
    "plt.ylabel(\"Predicted Efficacy\")\n",
    "plt.title(\"Predicted vs Actual (Linear Regression)\")\n",
    "plt.legend()\n",
    "plt.grid(True)\n",
    "plt.show()"
   ]
  },
  {
   "cell_type": "markdown",
   "id": "7ffd3a0f-98c1-45f3-a6b7-ae5b72ded5a0",
   "metadata": {},
   "source": [
    "## 2_Decission Tree Regressor Model"
   ]
  },
  {
   "cell_type": "code",
   "execution_count": 71,
   "id": "3afbfbfc-011c-4fef-ae00-878677d5261c",
   "metadata": {},
   "outputs": [
    {
     "data": {
      "text/html": [
       "<style>#sk-container-id-2 {\n",
       "  /* Definition of color scheme common for light and dark mode */\n",
       "  --sklearn-color-text: #000;\n",
       "  --sklearn-color-text-muted: #666;\n",
       "  --sklearn-color-line: gray;\n",
       "  /* Definition of color scheme for unfitted estimators */\n",
       "  --sklearn-color-unfitted-level-0: #fff5e6;\n",
       "  --sklearn-color-unfitted-level-1: #f6e4d2;\n",
       "  --sklearn-color-unfitted-level-2: #ffe0b3;\n",
       "  --sklearn-color-unfitted-level-3: chocolate;\n",
       "  /* Definition of color scheme for fitted estimators */\n",
       "  --sklearn-color-fitted-level-0: #f0f8ff;\n",
       "  --sklearn-color-fitted-level-1: #d4ebff;\n",
       "  --sklearn-color-fitted-level-2: #b3dbfd;\n",
       "  --sklearn-color-fitted-level-3: cornflowerblue;\n",
       "\n",
       "  /* Specific color for light theme */\n",
       "  --sklearn-color-text-on-default-background: var(--sg-text-color, var(--theme-code-foreground, var(--jp-content-font-color1, black)));\n",
       "  --sklearn-color-background: var(--sg-background-color, var(--theme-background, var(--jp-layout-color0, white)));\n",
       "  --sklearn-color-border-box: var(--sg-text-color, var(--theme-code-foreground, var(--jp-content-font-color1, black)));\n",
       "  --sklearn-color-icon: #696969;\n",
       "\n",
       "  @media (prefers-color-scheme: dark) {\n",
       "    /* Redefinition of color scheme for dark theme */\n",
       "    --sklearn-color-text-on-default-background: var(--sg-text-color, var(--theme-code-foreground, var(--jp-content-font-color1, white)));\n",
       "    --sklearn-color-background: var(--sg-background-color, var(--theme-background, var(--jp-layout-color0, #111)));\n",
       "    --sklearn-color-border-box: var(--sg-text-color, var(--theme-code-foreground, var(--jp-content-font-color1, white)));\n",
       "    --sklearn-color-icon: #878787;\n",
       "  }\n",
       "}\n",
       "\n",
       "#sk-container-id-2 {\n",
       "  color: var(--sklearn-color-text);\n",
       "}\n",
       "\n",
       "#sk-container-id-2 pre {\n",
       "  padding: 0;\n",
       "}\n",
       "\n",
       "#sk-container-id-2 input.sk-hidden--visually {\n",
       "  border: 0;\n",
       "  clip: rect(1px 1px 1px 1px);\n",
       "  clip: rect(1px, 1px, 1px, 1px);\n",
       "  height: 1px;\n",
       "  margin: -1px;\n",
       "  overflow: hidden;\n",
       "  padding: 0;\n",
       "  position: absolute;\n",
       "  width: 1px;\n",
       "}\n",
       "\n",
       "#sk-container-id-2 div.sk-dashed-wrapped {\n",
       "  border: 1px dashed var(--sklearn-color-line);\n",
       "  margin: 0 0.4em 0.5em 0.4em;\n",
       "  box-sizing: border-box;\n",
       "  padding-bottom: 0.4em;\n",
       "  background-color: var(--sklearn-color-background);\n",
       "}\n",
       "\n",
       "#sk-container-id-2 div.sk-container {\n",
       "  /* jupyter's `normalize.less` sets `[hidden] { display: none; }`\n",
       "     but bootstrap.min.css set `[hidden] { display: none !important; }`\n",
       "     so we also need the `!important` here to be able to override the\n",
       "     default hidden behavior on the sphinx rendered scikit-learn.org.\n",
       "     See: https://github.com/scikit-learn/scikit-learn/issues/21755 */\n",
       "  display: inline-block !important;\n",
       "  position: relative;\n",
       "}\n",
       "\n",
       "#sk-container-id-2 div.sk-text-repr-fallback {\n",
       "  display: none;\n",
       "}\n",
       "\n",
       "div.sk-parallel-item,\n",
       "div.sk-serial,\n",
       "div.sk-item {\n",
       "  /* draw centered vertical line to link estimators */\n",
       "  background-image: linear-gradient(var(--sklearn-color-text-on-default-background), var(--sklearn-color-text-on-default-background));\n",
       "  background-size: 2px 100%;\n",
       "  background-repeat: no-repeat;\n",
       "  background-position: center center;\n",
       "}\n",
       "\n",
       "/* Parallel-specific style estimator block */\n",
       "\n",
       "#sk-container-id-2 div.sk-parallel-item::after {\n",
       "  content: \"\";\n",
       "  width: 100%;\n",
       "  border-bottom: 2px solid var(--sklearn-color-text-on-default-background);\n",
       "  flex-grow: 1;\n",
       "}\n",
       "\n",
       "#sk-container-id-2 div.sk-parallel {\n",
       "  display: flex;\n",
       "  align-items: stretch;\n",
       "  justify-content: center;\n",
       "  background-color: var(--sklearn-color-background);\n",
       "  position: relative;\n",
       "}\n",
       "\n",
       "#sk-container-id-2 div.sk-parallel-item {\n",
       "  display: flex;\n",
       "  flex-direction: column;\n",
       "}\n",
       "\n",
       "#sk-container-id-2 div.sk-parallel-item:first-child::after {\n",
       "  align-self: flex-end;\n",
       "  width: 50%;\n",
       "}\n",
       "\n",
       "#sk-container-id-2 div.sk-parallel-item:last-child::after {\n",
       "  align-self: flex-start;\n",
       "  width: 50%;\n",
       "}\n",
       "\n",
       "#sk-container-id-2 div.sk-parallel-item:only-child::after {\n",
       "  width: 0;\n",
       "}\n",
       "\n",
       "/* Serial-specific style estimator block */\n",
       "\n",
       "#sk-container-id-2 div.sk-serial {\n",
       "  display: flex;\n",
       "  flex-direction: column;\n",
       "  align-items: center;\n",
       "  background-color: var(--sklearn-color-background);\n",
       "  padding-right: 1em;\n",
       "  padding-left: 1em;\n",
       "}\n",
       "\n",
       "\n",
       "/* Toggleable style: style used for estimator/Pipeline/ColumnTransformer box that is\n",
       "clickable and can be expanded/collapsed.\n",
       "- Pipeline and ColumnTransformer use this feature and define the default style\n",
       "- Estimators will overwrite some part of the style using the `sk-estimator` class\n",
       "*/\n",
       "\n",
       "/* Pipeline and ColumnTransformer style (default) */\n",
       "\n",
       "#sk-container-id-2 div.sk-toggleable {\n",
       "  /* Default theme specific background. It is overwritten whether we have a\n",
       "  specific estimator or a Pipeline/ColumnTransformer */\n",
       "  background-color: var(--sklearn-color-background);\n",
       "}\n",
       "\n",
       "/* Toggleable label */\n",
       "#sk-container-id-2 label.sk-toggleable__label {\n",
       "  cursor: pointer;\n",
       "  display: flex;\n",
       "  width: 100%;\n",
       "  margin-bottom: 0;\n",
       "  padding: 0.5em;\n",
       "  box-sizing: border-box;\n",
       "  text-align: center;\n",
       "  align-items: start;\n",
       "  justify-content: space-between;\n",
       "  gap: 0.5em;\n",
       "}\n",
       "\n",
       "#sk-container-id-2 label.sk-toggleable__label .caption {\n",
       "  font-size: 0.6rem;\n",
       "  font-weight: lighter;\n",
       "  color: var(--sklearn-color-text-muted);\n",
       "}\n",
       "\n",
       "#sk-container-id-2 label.sk-toggleable__label-arrow:before {\n",
       "  /* Arrow on the left of the label */\n",
       "  content: \"▸\";\n",
       "  float: left;\n",
       "  margin-right: 0.25em;\n",
       "  color: var(--sklearn-color-icon);\n",
       "}\n",
       "\n",
       "#sk-container-id-2 label.sk-toggleable__label-arrow:hover:before {\n",
       "  color: var(--sklearn-color-text);\n",
       "}\n",
       "\n",
       "/* Toggleable content - dropdown */\n",
       "\n",
       "#sk-container-id-2 div.sk-toggleable__content {\n",
       "  max-height: 0;\n",
       "  max-width: 0;\n",
       "  overflow: hidden;\n",
       "  text-align: left;\n",
       "  /* unfitted */\n",
       "  background-color: var(--sklearn-color-unfitted-level-0);\n",
       "}\n",
       "\n",
       "#sk-container-id-2 div.sk-toggleable__content.fitted {\n",
       "  /* fitted */\n",
       "  background-color: var(--sklearn-color-fitted-level-0);\n",
       "}\n",
       "\n",
       "#sk-container-id-2 div.sk-toggleable__content pre {\n",
       "  margin: 0.2em;\n",
       "  border-radius: 0.25em;\n",
       "  color: var(--sklearn-color-text);\n",
       "  /* unfitted */\n",
       "  background-color: var(--sklearn-color-unfitted-level-0);\n",
       "}\n",
       "\n",
       "#sk-container-id-2 div.sk-toggleable__content.fitted pre {\n",
       "  /* unfitted */\n",
       "  background-color: var(--sklearn-color-fitted-level-0);\n",
       "}\n",
       "\n",
       "#sk-container-id-2 input.sk-toggleable__control:checked~div.sk-toggleable__content {\n",
       "  /* Expand drop-down */\n",
       "  max-height: 200px;\n",
       "  max-width: 100%;\n",
       "  overflow: auto;\n",
       "}\n",
       "\n",
       "#sk-container-id-2 input.sk-toggleable__control:checked~label.sk-toggleable__label-arrow:before {\n",
       "  content: \"▾\";\n",
       "}\n",
       "\n",
       "/* Pipeline/ColumnTransformer-specific style */\n",
       "\n",
       "#sk-container-id-2 div.sk-label input.sk-toggleable__control:checked~label.sk-toggleable__label {\n",
       "  color: var(--sklearn-color-text);\n",
       "  background-color: var(--sklearn-color-unfitted-level-2);\n",
       "}\n",
       "\n",
       "#sk-container-id-2 div.sk-label.fitted input.sk-toggleable__control:checked~label.sk-toggleable__label {\n",
       "  background-color: var(--sklearn-color-fitted-level-2);\n",
       "}\n",
       "\n",
       "/* Estimator-specific style */\n",
       "\n",
       "/* Colorize estimator box */\n",
       "#sk-container-id-2 div.sk-estimator input.sk-toggleable__control:checked~label.sk-toggleable__label {\n",
       "  /* unfitted */\n",
       "  background-color: var(--sklearn-color-unfitted-level-2);\n",
       "}\n",
       "\n",
       "#sk-container-id-2 div.sk-estimator.fitted input.sk-toggleable__control:checked~label.sk-toggleable__label {\n",
       "  /* fitted */\n",
       "  background-color: var(--sklearn-color-fitted-level-2);\n",
       "}\n",
       "\n",
       "#sk-container-id-2 div.sk-label label.sk-toggleable__label,\n",
       "#sk-container-id-2 div.sk-label label {\n",
       "  /* The background is the default theme color */\n",
       "  color: var(--sklearn-color-text-on-default-background);\n",
       "}\n",
       "\n",
       "/* On hover, darken the color of the background */\n",
       "#sk-container-id-2 div.sk-label:hover label.sk-toggleable__label {\n",
       "  color: var(--sklearn-color-text);\n",
       "  background-color: var(--sklearn-color-unfitted-level-2);\n",
       "}\n",
       "\n",
       "/* Label box, darken color on hover, fitted */\n",
       "#sk-container-id-2 div.sk-label.fitted:hover label.sk-toggleable__label.fitted {\n",
       "  color: var(--sklearn-color-text);\n",
       "  background-color: var(--sklearn-color-fitted-level-2);\n",
       "}\n",
       "\n",
       "/* Estimator label */\n",
       "\n",
       "#sk-container-id-2 div.sk-label label {\n",
       "  font-family: monospace;\n",
       "  font-weight: bold;\n",
       "  display: inline-block;\n",
       "  line-height: 1.2em;\n",
       "}\n",
       "\n",
       "#sk-container-id-2 div.sk-label-container {\n",
       "  text-align: center;\n",
       "}\n",
       "\n",
       "/* Estimator-specific */\n",
       "#sk-container-id-2 div.sk-estimator {\n",
       "  font-family: monospace;\n",
       "  border: 1px dotted var(--sklearn-color-border-box);\n",
       "  border-radius: 0.25em;\n",
       "  box-sizing: border-box;\n",
       "  margin-bottom: 0.5em;\n",
       "  /* unfitted */\n",
       "  background-color: var(--sklearn-color-unfitted-level-0);\n",
       "}\n",
       "\n",
       "#sk-container-id-2 div.sk-estimator.fitted {\n",
       "  /* fitted */\n",
       "  background-color: var(--sklearn-color-fitted-level-0);\n",
       "}\n",
       "\n",
       "/* on hover */\n",
       "#sk-container-id-2 div.sk-estimator:hover {\n",
       "  /* unfitted */\n",
       "  background-color: var(--sklearn-color-unfitted-level-2);\n",
       "}\n",
       "\n",
       "#sk-container-id-2 div.sk-estimator.fitted:hover {\n",
       "  /* fitted */\n",
       "  background-color: var(--sklearn-color-fitted-level-2);\n",
       "}\n",
       "\n",
       "/* Specification for estimator info (e.g. \"i\" and \"?\") */\n",
       "\n",
       "/* Common style for \"i\" and \"?\" */\n",
       "\n",
       ".sk-estimator-doc-link,\n",
       "a:link.sk-estimator-doc-link,\n",
       "a:visited.sk-estimator-doc-link {\n",
       "  float: right;\n",
       "  font-size: smaller;\n",
       "  line-height: 1em;\n",
       "  font-family: monospace;\n",
       "  background-color: var(--sklearn-color-background);\n",
       "  border-radius: 1em;\n",
       "  height: 1em;\n",
       "  width: 1em;\n",
       "  text-decoration: none !important;\n",
       "  margin-left: 0.5em;\n",
       "  text-align: center;\n",
       "  /* unfitted */\n",
       "  border: var(--sklearn-color-unfitted-level-1) 1pt solid;\n",
       "  color: var(--sklearn-color-unfitted-level-1);\n",
       "}\n",
       "\n",
       ".sk-estimator-doc-link.fitted,\n",
       "a:link.sk-estimator-doc-link.fitted,\n",
       "a:visited.sk-estimator-doc-link.fitted {\n",
       "  /* fitted */\n",
       "  border: var(--sklearn-color-fitted-level-1) 1pt solid;\n",
       "  color: var(--sklearn-color-fitted-level-1);\n",
       "}\n",
       "\n",
       "/* On hover */\n",
       "div.sk-estimator:hover .sk-estimator-doc-link:hover,\n",
       ".sk-estimator-doc-link:hover,\n",
       "div.sk-label-container:hover .sk-estimator-doc-link:hover,\n",
       ".sk-estimator-doc-link:hover {\n",
       "  /* unfitted */\n",
       "  background-color: var(--sklearn-color-unfitted-level-3);\n",
       "  color: var(--sklearn-color-background);\n",
       "  text-decoration: none;\n",
       "}\n",
       "\n",
       "div.sk-estimator.fitted:hover .sk-estimator-doc-link.fitted:hover,\n",
       ".sk-estimator-doc-link.fitted:hover,\n",
       "div.sk-label-container:hover .sk-estimator-doc-link.fitted:hover,\n",
       ".sk-estimator-doc-link.fitted:hover {\n",
       "  /* fitted */\n",
       "  background-color: var(--sklearn-color-fitted-level-3);\n",
       "  color: var(--sklearn-color-background);\n",
       "  text-decoration: none;\n",
       "}\n",
       "\n",
       "/* Span, style for the box shown on hovering the info icon */\n",
       ".sk-estimator-doc-link span {\n",
       "  display: none;\n",
       "  z-index: 9999;\n",
       "  position: relative;\n",
       "  font-weight: normal;\n",
       "  right: .2ex;\n",
       "  padding: .5ex;\n",
       "  margin: .5ex;\n",
       "  width: min-content;\n",
       "  min-width: 20ex;\n",
       "  max-width: 50ex;\n",
       "  color: var(--sklearn-color-text);\n",
       "  box-shadow: 2pt 2pt 4pt #999;\n",
       "  /* unfitted */\n",
       "  background: var(--sklearn-color-unfitted-level-0);\n",
       "  border: .5pt solid var(--sklearn-color-unfitted-level-3);\n",
       "}\n",
       "\n",
       ".sk-estimator-doc-link.fitted span {\n",
       "  /* fitted */\n",
       "  background: var(--sklearn-color-fitted-level-0);\n",
       "  border: var(--sklearn-color-fitted-level-3);\n",
       "}\n",
       "\n",
       ".sk-estimator-doc-link:hover span {\n",
       "  display: block;\n",
       "}\n",
       "\n",
       "/* \"?\"-specific style due to the `<a>` HTML tag */\n",
       "\n",
       "#sk-container-id-2 a.estimator_doc_link {\n",
       "  float: right;\n",
       "  font-size: 1rem;\n",
       "  line-height: 1em;\n",
       "  font-family: monospace;\n",
       "  background-color: var(--sklearn-color-background);\n",
       "  border-radius: 1rem;\n",
       "  height: 1rem;\n",
       "  width: 1rem;\n",
       "  text-decoration: none;\n",
       "  /* unfitted */\n",
       "  color: var(--sklearn-color-unfitted-level-1);\n",
       "  border: var(--sklearn-color-unfitted-level-1) 1pt solid;\n",
       "}\n",
       "\n",
       "#sk-container-id-2 a.estimator_doc_link.fitted {\n",
       "  /* fitted */\n",
       "  border: var(--sklearn-color-fitted-level-1) 1pt solid;\n",
       "  color: var(--sklearn-color-fitted-level-1);\n",
       "}\n",
       "\n",
       "/* On hover */\n",
       "#sk-container-id-2 a.estimator_doc_link:hover {\n",
       "  /* unfitted */\n",
       "  background-color: var(--sklearn-color-unfitted-level-3);\n",
       "  color: var(--sklearn-color-background);\n",
       "  text-decoration: none;\n",
       "}\n",
       "\n",
       "#sk-container-id-2 a.estimator_doc_link.fitted:hover {\n",
       "  /* fitted */\n",
       "  background-color: var(--sklearn-color-fitted-level-3);\n",
       "}\n",
       "</style><div id=\"sk-container-id-2\" class=\"sk-top-container\"><div class=\"sk-text-repr-fallback\"><pre>DecisionTreeRegressor(random_state=42)</pre><b>In a Jupyter environment, please rerun this cell to show the HTML representation or trust the notebook. <br />On GitHub, the HTML representation is unable to render, please try loading this page with nbviewer.org.</b></div><div class=\"sk-container\" hidden><div class=\"sk-item\"><div class=\"sk-estimator fitted sk-toggleable\"><input class=\"sk-toggleable__control sk-hidden--visually\" id=\"sk-estimator-id-2\" type=\"checkbox\" checked><label for=\"sk-estimator-id-2\" class=\"sk-toggleable__label fitted sk-toggleable__label-arrow\"><div><div>DecisionTreeRegressor</div></div><div><a class=\"sk-estimator-doc-link fitted\" rel=\"noreferrer\" target=\"_blank\" href=\"https://scikit-learn.org/1.6/modules/generated/sklearn.tree.DecisionTreeRegressor.html\">?<span>Documentation for DecisionTreeRegressor</span></a><span class=\"sk-estimator-doc-link fitted\">i<span>Fitted</span></span></div></label><div class=\"sk-toggleable__content fitted\"><pre>DecisionTreeRegressor(random_state=42)</pre></div> </div></div></div></div>"
      ],
      "text/plain": [
       "DecisionTreeRegressor(random_state=42)"
      ]
     },
     "execution_count": 71,
     "metadata": {},
     "output_type": "execute_result"
    }
   ],
   "source": [
    "from sklearn.tree import DecisionTreeRegressor\n",
    "\n",
    "# Initialize with default settings\n",
    "tree = DecisionTreeRegressor(random_state=42)\n",
    "tree.fit(X_train, y_train)"
   ]
  },
  {
   "cell_type": "code",
   "execution_count": 72,
   "id": "c64960e0-8805-4975-84b6-bcd52e0184ca",
   "metadata": {},
   "outputs": [],
   "source": [
    "# Predict\n",
    "y_pred_tree = tree.predict(X_test)"
   ]
  },
  {
   "cell_type": "code",
   "execution_count": 75,
   "id": "699e5cb5-0dfb-45e7-b103-7ddc0e3ef9b0",
   "metadata": {},
   "outputs": [
    {
     "name": "stdout",
     "output_type": "stream",
     "text": [
      "Decision Tree R²: -0.7674\n",
      "Decision Tree RMSE: 1.9335\n"
     ]
    }
   ],
   "source": [
    "# Evaluation \n",
    "r2_tree = r2_score(y_test, y_pred_tree)\n",
    "rmse_tree = np.sqrt(mean_squared_error(y_test, y_pred_tree))\n",
    "\n",
    "print(f\"Decision Tree R²: {r2_tree:.4f}\")\n",
    "print(f\"Decision Tree RMSE: {rmse_tree:.4f}\")"
   ]
  },
  {
   "cell_type": "code",
   "execution_count": 77,
   "id": "fcd66b2c-66ce-42c9-8ec2-2b5e3bdca44d",
   "metadata": {},
   "outputs": [
    {
     "data": {
      "image/png": "[encoded data removed]",
      "text/plain": [
       "<Figure size 640x480 with 1 Axes>"
      ]
     },
     "metadata": {},
     "output_type": "display_data"
    }
   ],
   "source": [
    "# Predicted vs Actual\n",
    "sns.scatterplot(x=y_test, y=y_pred_tree, alpha=0.6)\n",
    "plt.plot([y_test.min(), y_test.max()], [y_test.min(), y_test.max()], '--r')\n",
    "plt.xlabel(\"Actual Efficacy\")\n",
    "plt.ylabel(\"Predicted Efficacy\")\n",
    "plt.title(\"Decision Tree: Predicted vs Actual\")\n",
    "plt.grid(True)\n",
    "plt.show()"
   ]
  },
  {
   "cell_type": "markdown",
   "id": "94604599-177f-47ab-891e-e10e21965208",
   "metadata": {},
   "source": [
    "## 3_XGBoost Regressor Model "
   ]
  },
  {
   "cell_type": "code",
   "execution_count": 203,
   "id": "883ea4b5-b859-49ce-b266-4963523fec60",
   "metadata": {},
   "outputs": [],
   "source": [
    "from xgboost import XGBRegressor\n",
    "\n",
    "# Initialize model \n",
    "xgb = XGBRegressor(\n",
    "    max_depth=6,\n",
    "    n_estimators=500,\n",
    "    learning_rate=0.03,\n",
    "    subsample=0.8,\n",
    "    colsample_bytree=0.8,\n",
    "    reg_lambda=1,\n",
    "    reg_alpha=1,\n",
    "    random_state=42\n",
    ")"
   ]
  },
  {
   "cell_type": "code",
   "execution_count": 205,
   "id": "5bbd92d0-54ed-4e98-a48a-a28af170adea",
   "metadata": {},
   "outputs": [],
   "source": [
    "# Train\n",
    "xgb.fit(X_train, y_train)\n",
    "\n",
    "# Predict\n",
    "y_pred_xgb = xgb.predict(X_test)"
   ]
  },
  {
   "cell_type": "code",
   "execution_count": 206,
   "id": "b2a57dd4-792c-4879-8231-3977d9ccbe7c",
   "metadata": {},
   "outputs": [
    {
     "name": "stdout",
     "output_type": "stream",
     "text": [
      "XGBoost R²: -0.0350\n",
      "XGBoost RMSE: 1.4796\n"
     ]
    },
    {
     "data": {
      "image/png": "[encoded data removed]",
      "text/plain": [
       "<Figure size 640x480 with 1 Axes>"
      ]
     },
     "metadata": {},
     "output_type": "display_data"
    }
   ],
   "source": [
    "r2_xgb = r2_score(y_test, y_pred_xgb)\n",
    "rmse_xgb = np.sqrt(mean_squared_error(y_test, y_pred_xgb))\n",
    "\n",
    "print(f\"XGBoost R²: {r2_xgb:.4f}\")\n",
    "print(f\"XGBoost RMSE: {rmse_xgb:.4f}\")\n",
    "\n",
    "import seaborn as sns\n",
    "import matplotlib.pyplot as plt\n",
    "\n",
    "sns.scatterplot(x=y_test, y=y_pred_xgb, alpha=0.6)\n",
    "plt.plot([y_test.min(), y_test.max()], [y_test.min(), y_test.max()], '--r')\n",
    "plt.xlabel(\"Actual Efficacy\")\n",
    "plt.ylabel(\"Predicted Efficacy\")\n",
    "plt.title(\"XGBoost: Predicted vs Actual\")\n",
    "plt.grid(True)\n",
    "plt.show()"
   ]
  },
  {
   "cell_type": "code",
   "execution_count": 207,
   "id": "b824ef38-abce-4d50-be8d-187bd814d258",
   "metadata": {},
   "outputs": [
    {
     "data": {
      "image/png": "[encoded data removed]",
      "text/plain": [
       "<Figure size 800x500 with 1 Axes>"
      ]
     },
     "metadata": {},
     "output_type": "display_data"
    }
   ],
   "source": [
    "from sklearn.model_selection import learning_curve\n",
    "import numpy as np\n",
    "import matplotlib.pyplot as plt\n",
    "\n",
    "# Compute learning curve\n",
    "train_sizes, train_scores, test_scores = learning_curve(\n",
    "    estimator=xgb,\n",
    "    X=X_train,\n",
    "    y=y_train,\n",
    "    train_sizes=np.linspace(0.1, 1.0, 10),  # 10 increments from 10% to 100%\n",
    "    cv=5,\n",
    "    scoring='neg_root_mean_squared_error',\n",
    "    n_jobs=-1,\n",
    "    shuffle=True,\n",
    "    random_state=42\n",
    ")\n",
    "\n",
    "# Convert to positive RMSE values\n",
    "train_rmse = -np.mean(train_scores, axis=1)\n",
    "test_rmse = -np.mean(test_scores, axis=1)\n",
    "\n",
    "# Plot\n",
    "plt.figure(figsize=(8, 5))\n",
    "plt.plot(train_sizes, train_rmse, 'o-', label='Training RMSE')\n",
    "plt.plot(train_sizes, test_rmse, 'o-', label='Validation RMSE')\n",
    "plt.title('Learning Curve (XGBoost)')\n",
    "plt.xlabel('Training Set Size')\n",
    "plt.ylabel('RMSE')\n",
    "plt.legend()\n",
    "plt.grid(True)\n",
    "plt.tight_layout()\n",
    "plt.show()"
   ]
  },
  {
   "cell_type": "code",
   "execution_count": null,
   "id": "4bfa1393-b761-4f66-b76f-4488ec9dc6d9",
   "metadata": {},
   "outputs": [],
   "source": []
  }
 ],
 "metadata": {
  "kernelspec": {
   "display_name": "Python [conda env:base] *",
   "language": "python",
   "name": "conda-base-py"
  },
  "language_info": {
   "codemirror_mode": {
    "name": "ipython",
    "version": 3
   },
   "file_extension": ".py",
   "mimetype": "text/x-python",
   "name": "python",
   "nbconvert_exporter": "python",
   "pygments_lexer": "ipython3",
   "version": "3.12.7"
  }
 },
 "nbformat": 4,
 "nbformat_minor": 5
}
